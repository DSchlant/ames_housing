{
 "cells": [
  {
   "cell_type": "code",
   "execution_count": 1,
   "id": "541a3a79-e5cb-490a-94d8-6a99e0b8da73",
   "metadata": {},
   "outputs": [],
   "source": [
    "import pandas as pd\n",
    "import numpy as np\n",
    "from sklearn.model_selection import train_test_split\n",
    "from sklearn.preprocessing import StandardScaler\n",
    "from sklearn.impute import SimpleImputer\n",
    "from sklearn.compose import make_column_transformer\n",
    "import seaborn as sns\n",
    "import matplotlib.pyplot as plt"
   ]
  },
  {
   "cell_type": "code",
   "execution_count": 2,
   "id": "fd65d39e-1282-4bda-8e1b-246367563871",
   "metadata": {},
   "outputs": [],
   "source": [
    "pd.set_option('display.max_rows', None)\n",
    "pd.set_option('display.max_columns', None)"
   ]
  },
  {
   "cell_type": "code",
   "execution_count": 3,
   "id": "e44157a5-6f57-473a-a7ba-0f887f3d1cc1",
   "metadata": {},
   "outputs": [],
   "source": [
    "df_train = pd.read_csv('../datasets/original_files/train.csv',keep_default_na=False,na_values='')\n",
    "df_test = pd.read_csv('../datasets/original_files/test.csv',keep_default_na=False,na_values='')"
   ]
  },
  {
   "cell_type": "code",
   "execution_count": 4,
   "id": "8139b6de-745a-4669-8931-9e4c84ad944a",
   "metadata": {},
   "outputs": [
    {
     "data": {
      "text/plain": [
       "((2051, 81), (878, 80))"
      ]
     },
     "execution_count": 4,
     "metadata": {},
     "output_type": "execute_result"
    }
   ],
   "source": [
    "df_train.shape, df_test.shape"
   ]
  },
  {
   "cell_type": "markdown",
   "id": "c84f1480-5af2-46d9-8a38-cd941282f551",
   "metadata": {},
   "source": [
    "Amending column names to lower case, replacing space with underscore."
   ]
  },
  {
   "cell_type": "code",
   "execution_count": 5,
   "id": "e53fbdc8-4129-4b84-be9d-b4d5cb8b3675",
   "metadata": {},
   "outputs": [],
   "source": [
    "df_train.columns = df_train.columns.str.lower().str.replace(' ','_')\n",
    "df_test.columns = df_test.columns.str.lower().str.replace(' ','_')"
   ]
  },
  {
   "cell_type": "markdown",
   "id": "57bfb6c1-990d-4a1c-bebf-cf54ed07b333",
   "metadata": {},
   "source": [
    "Dropping a couple of unnecessary columns here: PID and Garage Year Built."
   ]
  },
  {
   "cell_type": "code",
   "execution_count": 6,
   "id": "67e0933b-2280-40cc-ad35-9b20bae50f5b",
   "metadata": {},
   "outputs": [],
   "source": [
    "df_train = df_train.drop(columns=['pid','garage_yr_blt'])\n",
    "df_test = df_test.drop(columns=['pid','garage_yr_blt'])"
   ]
  },
  {
   "cell_type": "code",
   "execution_count": 7,
   "id": "6af26a9b-39ee-4b98-b32b-1cfdcfc48fc8",
   "metadata": {},
   "outputs": [
    {
     "data": {
      "image/png": "[encoded data removed]",
      "text/plain": [
       "<Figure size 1440x720 with 1 Axes>"
      ]
     },
     "metadata": {
      "needs_background": "light"
     },
     "output_type": "display_data"
    }
   ],
   "source": [
    "plt.figure(figsize=(20,10))\n",
    "sns.histplot(df_train[\"saleprice\"],bins=50).set(ylabel=None,yticklabels=[],yticks=[])\n",
    "plt.xlabel('Sale Prices',labelpad=20,fontsize=20)\n",
    "plt.xticks(fontsize=15)\n",
    "plt.title('Distribution of Home Sale Prices: Ames, Iowa (2006-2010)',fontsize=20);"
   ]
  },
  {
   "cell_type": "markdown",
   "id": "335324dc-7e1d-4a92-abd0-d321f3ff792f",
   "metadata": {},
   "source": [
    "Keeping in mind the data science question, I removed homes with sale prices above $450,000. I intend for this analysis to be relevant to university staff and faculty, with our analysis focusing on homes that we might reasonably expect these individuals to own/buy. This dropped 24 houses from our dataset."
   ]
  },
  {
   "cell_type": "code",
   "execution_count": 8,
   "id": "35e9ea57-aca9-4d91-b93a-7f31a491619c",
   "metadata": {},
   "outputs": [],
   "source": [
    "df_train = df_train[df_train['saleprice'] < 450000]"
   ]
  },
  {
   "cell_type": "code",
   "execution_count": 9,
   "id": "8ff76d4c-541c-4c86-bf27-c5afac057fef",
   "metadata": {},
   "outputs": [
    {
     "data": {
      "text/plain": [
       "(2027, 79)"
      ]
     },
     "execution_count": 9,
     "metadata": {},
     "output_type": "execute_result"
    }
   ],
   "source": [
    "df_train.shape"
   ]
  },
  {
   "cell_type": "markdown",
   "id": "2d41d50e-d3c8-46e4-804e-b703cd8aa69b",
   "metadata": {},
   "source": [
    "### Ordinal Encoding"
   ]
  },
  {
   "cell_type": "markdown",
   "id": "369d09c7-c20f-4273-971e-bca4296566cc",
   "metadata": {},
   "source": [
    "Manually built ordinal library of all ordinal fields and assigned values."
   ]
  },
  {
   "cell_type": "code",
   "execution_count": 10,
   "id": "a9aabf29-3e86-42fb-80f2-74d4e6339b37",
   "metadata": {},
   "outputs": [],
   "source": [
    "ord_lib = {'Reg': 4,'IR1':3,'IR2':2,'IR3':1,'AllPub':1,'NoSewr':0,'NoSeWa':0,'ELO':0,'Gtl':3,'Mod':2,'Sev':1,'10':10,'9':9,'8':8,'7':7,'6':6,\\\n",
    "'5':5,'4':4,'3':3,'2':2,'1':1,'Av':3,'Mn':2,'PosA':3,'PosN':2,'Norm':1,'Artery':0,'Feedr':0,'RRNn':0,'RRAn':0,'RRNe':0,'RRAe':0,\\\n",
    "'Ex':5,'Gd':4,'TA':3,'Fa':2,'Po':1,'NA':0,'No':0,'GLQ':6,'ALQ':5,'BLQ':4,'Rec':3,'LwQ':2,'Unf':1,'SBrkr':5,'FuseA':4,'FuseF':3,'FuseP':2,'Mix':1,\\\n",
    "'Typ':8,'Min1':7,'Min2':6,'Mod':5,'Maj1':4,'Maj2':3,'Sev':2,'Sal':1,'Fin':3,'RFn':2,'Y':2,'P':1,'N':0,'GdPrv':4,'MnPrv':3,'GdWo':2,'MnWw':1}"
   ]
  },
  {
   "cell_type": "markdown",
   "id": "fca09b90-8b2f-4222-87bc-7bd09911362f",
   "metadata": {
    "tags": []
   },
   "source": [
    "List of all ordinal features"
   ]
  },
  {
   "cell_type": "code",
   "execution_count": 11,
   "id": "45b09ded-9af0-47fa-9019-54367d077b75",
   "metadata": {},
   "outputs": [],
   "source": [
    "ordinal_cols = df_train[['overall_qual','overall_cond','exter_qual','exter_cond','bsmt_qual',\\\n",
    "'bsmt_cond','bsmtfin_type_1','bsmtfin_type_2','heating_qc','electrical','kitchen_qual','functional',\\\n",
    "'fireplace_qu','garage_finish','garage_qual','garage_cond','paved_drive','pool_qc','fence',\\\n",
    "'lot_shape','utilities','land_slope','bsmt_exposure','condition_1','condition_2']]"
   ]
  },
  {
   "cell_type": "code",
   "execution_count": 12,
   "id": "40fc2ef0-45ea-48fc-81ed-708031e180ed",
   "metadata": {},
   "outputs": [],
   "source": [
    "ordinal_cols2 = df_test[['overall_qual','overall_cond','exter_qual','exter_cond','bsmt_qual',\\\n",
    "'bsmt_cond','bsmtfin_type_1','bsmtfin_type_2','heating_qc','electrical','kitchen_qual','functional',\\\n",
    "'fireplace_qu','garage_finish','garage_qual','garage_cond','paved_drive','pool_qc','fence',\\\n",
    "'lot_shape','utilities','land_slope','bsmt_exposure','condition_1','condition_2']]"
   ]
  },
  {
   "cell_type": "code",
   "execution_count": 13,
   "id": "d2a0b083-1907-4163-ae51-b0a183ddcce3",
   "metadata": {},
   "outputs": [],
   "source": [
    "for i in ordinal_cols.columns:\n",
    "    df_train.replace({i: ord_lib},inplace = True)"
   ]
  },
  {
   "cell_type": "code",
   "execution_count": 14,
   "id": "97b7ce5b-1830-4f40-bef2-cba3bd1a3056",
   "metadata": {},
   "outputs": [],
   "source": [
    "for i in ordinal_cols2.columns:\n",
    "    df_test.replace({i: ord_lib},inplace = True)"
   ]
  },
  {
   "cell_type": "markdown",
   "id": "fa27ae99-0719-488b-8c95-e70f5e7ca360",
   "metadata": {},
   "source": [
    "### Column Combination/Alteration"
   ]
  },
  {
   "cell_type": "markdown",
   "id": "957f6b29-045b-4187-9d86-eb49f27372dd",
   "metadata": {},
   "source": [
    "Creating composite score for area's quality using the condition 1 and 2 columns, which assign qualitiative assessments of the surrounding area, which I have converted into numeric values."
   ]
  },
  {
   "cell_type": "code",
   "execution_count": 15,
   "id": "4b9815d2-960c-4e76-b004-6f870e35235c",
   "metadata": {},
   "outputs": [],
   "source": [
    "df_test['area_qual'] = df_test['condition_1'] + df_test['condition_2']\n",
    "df_train['area_qual'] = df_train['condition_1'] + df_train['condition_2']\n",
    "df_train = df_train.drop(columns=['condition_1','condition_2'])\n",
    "df_test = df_test.drop(columns=['condition_1','condition_2'])"
   ]
  },
  {
   "cell_type": "markdown",
   "id": "5967c4d8-e039-4491-ab10-f6b4fd90f77c",
   "metadata": {},
   "source": [
    "Replacing 'year built' and 'year remodeled' column with columns for ages and years since remodeling so they can serve as continous variables."
   ]
  },
  {
   "cell_type": "code",
   "execution_count": 16,
   "id": "a2184818-b03a-409a-b0e0-b62b3e3b761b",
   "metadata": {},
   "outputs": [],
   "source": [
    "df_train['age'] = df_train['yr_sold'] - df_train['year_built']\n",
    "df_train['yrs_sincerm'] = df_train['yr_sold'] - df_train['year_remod/add']\n",
    "df_train = df_train.drop(columns=['year_built','year_remod/add'])\n",
    "\n",
    "df_test['age'] = df_test['yr_sold'] - df_test['year_built']\n",
    "df_test['yrs_sincerm'] = df_test['yr_sold'] - df_test['year_remod/add']\n",
    "df_test = df_test.drop(columns=['year_built','year_remod/add'])"
   ]
  },
  {
   "cell_type": "code",
   "execution_count": 17,
   "id": "5d361549-3b09-4dde-97db-834a5f41716e",
   "metadata": {},
   "outputs": [
    {
     "data": {
      "text/html": [
       "<div>\n",
       "<style scoped>\n",
       "    .dataframe tbody tr th:only-of-type {\n",
       "        vertical-align: middle;\n",
       "    }\n",
       "\n",
       "    .dataframe tbody tr th {\n",
       "        vertical-align: top;\n",
       "    }\n",
       "\n",
       "    .dataframe thead th {\n",
       "        text-align: right;\n",
       "    }\n",
       "</style>\n",
       "<table border=\"1\" class=\"dataframe\">\n",
       "  <thead>\n",
       "    <tr style=\"text-align: right;\">\n",
       "      <th></th>\n",
       "      <th>id</th>\n",
       "      <th>ms_subclass</th>\n",
       "      <th>lot_frontage</th>\n",
       "      <th>lot_area</th>\n",
       "      <th>lot_shape</th>\n",
       "      <th>utilities</th>\n",
       "      <th>land_slope</th>\n",
       "      <th>overall_qual</th>\n",
       "      <th>overall_cond</th>\n",
       "      <th>mas_vnr_area</th>\n",
       "      <th>exter_qual</th>\n",
       "      <th>exter_cond</th>\n",
       "      <th>bsmt_qual</th>\n",
       "      <th>bsmt_cond</th>\n",
       "      <th>bsmt_exposure</th>\n",
       "      <th>bsmtfin_type_1</th>\n",
       "      <th>bsmtfin_sf_1</th>\n",
       "      <th>bsmtfin_type_2</th>\n",
       "      <th>bsmtfin_sf_2</th>\n",
       "      <th>bsmt_unf_sf</th>\n",
       "      <th>total_bsmt_sf</th>\n",
       "      <th>heating_qc</th>\n",
       "      <th>electrical</th>\n",
       "      <th>1st_flr_sf</th>\n",
       "      <th>2nd_flr_sf</th>\n",
       "      <th>low_qual_fin_sf</th>\n",
       "      <th>gr_liv_area</th>\n",
       "      <th>bsmt_full_bath</th>\n",
       "      <th>bsmt_half_bath</th>\n",
       "      <th>full_bath</th>\n",
       "      <th>half_bath</th>\n",
       "      <th>bedroom_abvgr</th>\n",
       "      <th>kitchen_abvgr</th>\n",
       "      <th>kitchen_qual</th>\n",
       "      <th>totrms_abvgrd</th>\n",
       "      <th>functional</th>\n",
       "      <th>fireplaces</th>\n",
       "      <th>fireplace_qu</th>\n",
       "      <th>garage_finish</th>\n",
       "      <th>garage_cars</th>\n",
       "      <th>garage_area</th>\n",
       "      <th>garage_qual</th>\n",
       "      <th>garage_cond</th>\n",
       "      <th>paved_drive</th>\n",
       "      <th>wood_deck_sf</th>\n",
       "      <th>open_porch_sf</th>\n",
       "      <th>enclosed_porch</th>\n",
       "      <th>3ssn_porch</th>\n",
       "      <th>screen_porch</th>\n",
       "      <th>pool_area</th>\n",
       "      <th>pool_qc</th>\n",
       "      <th>fence</th>\n",
       "      <th>misc_val</th>\n",
       "      <th>mo_sold</th>\n",
       "      <th>yr_sold</th>\n",
       "      <th>saleprice</th>\n",
       "      <th>area_qual</th>\n",
       "      <th>age</th>\n",
       "      <th>yrs_sincerm</th>\n",
       "    </tr>\n",
       "  </thead>\n",
       "  <tbody>\n",
       "    <tr>\n",
       "      <th>count</th>\n",
       "      <td>2027.000000</td>\n",
       "      <td>2027.000000</td>\n",
       "      <td>1698.000000</td>\n",
       "      <td>2027.000000</td>\n",
       "      <td>2027.000000</td>\n",
       "      <td>2027.000000</td>\n",
       "      <td>2027.000000</td>\n",
       "      <td>2027.000000</td>\n",
       "      <td>2027.000000</td>\n",
       "      <td>2006.000000</td>\n",
       "      <td>2027.000000</td>\n",
       "      <td>2027.000000</td>\n",
       "      <td>2026.000000</td>\n",
       "      <td>2026.000000</td>\n",
       "      <td>2023.000000</td>\n",
       "      <td>2026.000000</td>\n",
       "      <td>2026.000000</td>\n",
       "      <td>2025.000000</td>\n",
       "      <td>2026.000000</td>\n",
       "      <td>2026.000000</td>\n",
       "      <td>2026.000000</td>\n",
       "      <td>2027.000000</td>\n",
       "      <td>2027.000000</td>\n",
       "      <td>2027.000000</td>\n",
       "      <td>2027.000000</td>\n",
       "      <td>2027.000000</td>\n",
       "      <td>2027.000000</td>\n",
       "      <td>2025.000000</td>\n",
       "      <td>2025.000000</td>\n",
       "      <td>2027.000000</td>\n",
       "      <td>2027.000000</td>\n",
       "      <td>2027.000000</td>\n",
       "      <td>2027.000000</td>\n",
       "      <td>2027.000000</td>\n",
       "      <td>2027.000000</td>\n",
       "      <td>2027.000000</td>\n",
       "      <td>2027.000000</td>\n",
       "      <td>2027.000000</td>\n",
       "      <td>2026.000000</td>\n",
       "      <td>2026.000000</td>\n",
       "      <td>2026.000000</td>\n",
       "      <td>2026.000000</td>\n",
       "      <td>2026.000000</td>\n",
       "      <td>2027.000000</td>\n",
       "      <td>2027.000000</td>\n",
       "      <td>2027.000000</td>\n",
       "      <td>2027.000000</td>\n",
       "      <td>2027.000000</td>\n",
       "      <td>2027.000000</td>\n",
       "      <td>2027.000000</td>\n",
       "      <td>2027.000000</td>\n",
       "      <td>2027.000000</td>\n",
       "      <td>2027.000000</td>\n",
       "      <td>2027.000000</td>\n",
       "      <td>2027.000000</td>\n",
       "      <td>2027.000000</td>\n",
       "      <td>2027.000000</td>\n",
       "      <td>2027.000000</td>\n",
       "      <td>2027.000000</td>\n",
       "    </tr>\n",
       "    <tr>\n",
       "      <th>mean</th>\n",
       "      <td>1476.234336</td>\n",
       "      <td>57.222496</td>\n",
       "      <td>68.813310</td>\n",
       "      <td>9969.845585</td>\n",
       "      <td>3.599408</td>\n",
       "      <td>0.999013</td>\n",
       "      <td>3.078934</td>\n",
       "      <td>6.072521</td>\n",
       "      <td>5.566848</td>\n",
       "      <td>94.339980</td>\n",
       "      <td>3.389739</td>\n",
       "      <td>3.084854</td>\n",
       "      <td>3.475814</td>\n",
       "      <td>2.929418</td>\n",
       "      <td>0.950568</td>\n",
       "      <td>3.549358</td>\n",
       "      <td>433.498519</td>\n",
       "      <td>1.274568</td>\n",
       "      <td>47.573544</td>\n",
       "      <td>565.069595</td>\n",
       "      <td>1046.141658</td>\n",
       "      <td>4.148495</td>\n",
       "      <td>4.884065</td>\n",
       "      <td>1153.922546</td>\n",
       "      <td>326.503207</td>\n",
       "      <td>5.296004</td>\n",
       "      <td>1485.721756</td>\n",
       "      <td>0.422716</td>\n",
       "      <td>0.064198</td>\n",
       "      <td>1.568821</td>\n",
       "      <td>0.366058</td>\n",
       "      <td>2.841145</td>\n",
       "      <td>1.043414</td>\n",
       "      <td>3.500247</td>\n",
       "      <td>6.398619</td>\n",
       "      <td>7.842625</td>\n",
       "      <td>0.581154</td>\n",
       "      <td>1.736556</td>\n",
       "      <td>1.712734</td>\n",
       "      <td>1.761599</td>\n",
       "      <td>468.621422</td>\n",
       "      <td>2.800099</td>\n",
       "      <td>2.809477</td>\n",
       "      <td>1.831771</td>\n",
       "      <td>92.726196</td>\n",
       "      <td>46.766157</td>\n",
       "      <td>22.804637</td>\n",
       "      <td>2.622102</td>\n",
       "      <td>15.567341</td>\n",
       "      <td>2.426246</td>\n",
       "      <td>0.015294</td>\n",
       "      <td>0.579674</td>\n",
       "      <td>52.185002</td>\n",
       "      <td>6.222003</td>\n",
       "      <td>2007.776024</td>\n",
       "      <td>177568.413912</td>\n",
       "      <td>1.895412</td>\n",
       "      <td>36.409472</td>\n",
       "      <td>23.837691</td>\n",
       "    </tr>\n",
       "    <tr>\n",
       "      <th>std</th>\n",
       "      <td>843.033223</td>\n",
       "      <td>42.972090</td>\n",
       "      <td>23.206178</td>\n",
       "      <td>6622.475755</td>\n",
       "      <td>0.564112</td>\n",
       "      <td>0.031404</td>\n",
       "      <td>0.408069</td>\n",
       "      <td>1.385715</td>\n",
       "      <td>1.106762</td>\n",
       "      <td>166.183002</td>\n",
       "      <td>0.569939</td>\n",
       "      <td>0.371362</td>\n",
       "      <td>0.890364</td>\n",
       "      <td>0.571291</td>\n",
       "      <td>1.468606</td>\n",
       "      <td>2.121444</td>\n",
       "      <td>450.016944</td>\n",
       "      <td>0.944963</td>\n",
       "      <td>162.820018</td>\n",
       "      <td>442.365222</td>\n",
       "      <td>435.539105</td>\n",
       "      <td>0.965420</td>\n",
       "      <td>0.404659</td>\n",
       "      <td>384.635878</td>\n",
       "      <td>421.200165</td>\n",
       "      <td>49.800978</td>\n",
       "      <td>484.951124</td>\n",
       "      <td>0.521360</td>\n",
       "      <td>0.253098</td>\n",
       "      <td>0.544718</td>\n",
       "      <td>0.499943</td>\n",
       "      <td>0.823773</td>\n",
       "      <td>0.210977</td>\n",
       "      <td>0.650290</td>\n",
       "      <td>1.520170</td>\n",
       "      <td>0.684332</td>\n",
       "      <td>0.633625</td>\n",
       "      <td>1.799874</td>\n",
       "      <td>0.895754</td>\n",
       "      <td>0.756161</td>\n",
       "      <td>211.270567</td>\n",
       "      <td>0.720096</td>\n",
       "      <td>0.717492</td>\n",
       "      <td>0.537642</td>\n",
       "      <td>127.167578</td>\n",
       "      <td>66.121889</td>\n",
       "      <td>60.140788</td>\n",
       "      <td>25.377024</td>\n",
       "      <td>55.442150</td>\n",
       "      <td>38.004791</td>\n",
       "      <td>0.237756</td>\n",
       "      <td>1.214401</td>\n",
       "      <td>576.752561</td>\n",
       "      <td>2.748786</td>\n",
       "      <td>1.310282</td>\n",
       "      <td>70887.597221</td>\n",
       "      <td>0.426091</td>\n",
       "      <td>30.124504</td>\n",
       "      <td>21.012449</td>\n",
       "    </tr>\n",
       "    <tr>\n",
       "      <th>min</th>\n",
       "      <td>1.000000</td>\n",
       "      <td>20.000000</td>\n",
       "      <td>21.000000</td>\n",
       "      <td>1300.000000</td>\n",
       "      <td>1.000000</td>\n",
       "      <td>0.000000</td>\n",
       "      <td>2.000000</td>\n",
       "      <td>1.000000</td>\n",
       "      <td>1.000000</td>\n",
       "      <td>0.000000</td>\n",
       "      <td>2.000000</td>\n",
       "      <td>1.000000</td>\n",
       "      <td>0.000000</td>\n",
       "      <td>0.000000</td>\n",
       "      <td>0.000000</td>\n",
       "      <td>0.000000</td>\n",
       "      <td>0.000000</td>\n",
       "      <td>0.000000</td>\n",
       "      <td>0.000000</td>\n",
       "      <td>0.000000</td>\n",
       "      <td>0.000000</td>\n",
       "      <td>1.000000</td>\n",
       "      <td>1.000000</td>\n",
       "      <td>334.000000</td>\n",
       "      <td>0.000000</td>\n",
       "      <td>0.000000</td>\n",
       "      <td>334.000000</td>\n",
       "      <td>0.000000</td>\n",
       "      <td>0.000000</td>\n",
       "      <td>0.000000</td>\n",
       "      <td>0.000000</td>\n",
       "      <td>0.000000</td>\n",
       "      <td>0.000000</td>\n",
       "      <td>2.000000</td>\n",
       "      <td>2.000000</td>\n",
       "      <td>1.000000</td>\n",
       "      <td>0.000000</td>\n",
       "      <td>0.000000</td>\n",
       "      <td>0.000000</td>\n",
       "      <td>0.000000</td>\n",
       "      <td>0.000000</td>\n",
       "      <td>0.000000</td>\n",
       "      <td>0.000000</td>\n",
       "      <td>0.000000</td>\n",
       "      <td>0.000000</td>\n",
       "      <td>0.000000</td>\n",
       "      <td>0.000000</td>\n",
       "      <td>0.000000</td>\n",
       "      <td>0.000000</td>\n",
       "      <td>0.000000</td>\n",
       "      <td>0.000000</td>\n",
       "      <td>0.000000</td>\n",
       "      <td>0.000000</td>\n",
       "      <td>1.000000</td>\n",
       "      <td>2006.000000</td>\n",
       "      <td>12789.000000</td>\n",
       "      <td>0.000000</td>\n",
       "      <td>-1.000000</td>\n",
       "      <td>-2.000000</td>\n",
       "    </tr>\n",
       "    <tr>\n",
       "      <th>25%</th>\n",
       "      <td>761.500000</td>\n",
       "      <td>20.000000</td>\n",
       "      <td>58.000000</td>\n",
       "      <td>7500.000000</td>\n",
       "      <td>3.000000</td>\n",
       "      <td>1.000000</td>\n",
       "      <td>3.000000</td>\n",
       "      <td>5.000000</td>\n",
       "      <td>5.000000</td>\n",
       "      <td>0.000000</td>\n",
       "      <td>3.000000</td>\n",
       "      <td>3.000000</td>\n",
       "      <td>3.000000</td>\n",
       "      <td>3.000000</td>\n",
       "      <td>0.000000</td>\n",
       "      <td>1.000000</td>\n",
       "      <td>0.000000</td>\n",
       "      <td>1.000000</td>\n",
       "      <td>0.000000</td>\n",
       "      <td>219.250000</td>\n",
       "      <td>789.000000</td>\n",
       "      <td>3.000000</td>\n",
       "      <td>5.000000</td>\n",
       "      <td>877.500000</td>\n",
       "      <td>0.000000</td>\n",
       "      <td>0.000000</td>\n",
       "      <td>1126.000000</td>\n",
       "      <td>0.000000</td>\n",
       "      <td>0.000000</td>\n",
       "      <td>1.000000</td>\n",
       "      <td>0.000000</td>\n",
       "      <td>2.000000</td>\n",
       "      <td>1.000000</td>\n",
       "      <td>3.000000</td>\n",
       "      <td>5.000000</td>\n",
       "      <td>8.000000</td>\n",
       "      <td>0.000000</td>\n",
       "      <td>0.000000</td>\n",
       "      <td>1.000000</td>\n",
       "      <td>1.000000</td>\n",
       "      <td>315.250000</td>\n",
       "      <td>3.000000</td>\n",
       "      <td>3.000000</td>\n",
       "      <td>2.000000</td>\n",
       "      <td>0.000000</td>\n",
       "      <td>0.000000</td>\n",
       "      <td>0.000000</td>\n",
       "      <td>0.000000</td>\n",
       "      <td>0.000000</td>\n",
       "      <td>0.000000</td>\n",
       "      <td>0.000000</td>\n",
       "      <td>0.000000</td>\n",
       "      <td>0.000000</td>\n",
       "      <td>4.000000</td>\n",
       "      <td>2007.000000</td>\n",
       "      <td>129500.000000</td>\n",
       "      <td>2.000000</td>\n",
       "      <td>7.000000</td>\n",
       "      <td>4.000000</td>\n",
       "    </tr>\n",
       "    <tr>\n",
       "      <th>50%</th>\n",
       "      <td>1486.000000</td>\n",
       "      <td>50.000000</td>\n",
       "      <td>68.000000</td>\n",
       "      <td>9360.000000</td>\n",
       "      <td>4.000000</td>\n",
       "      <td>1.000000</td>\n",
       "      <td>3.000000</td>\n",
       "      <td>6.000000</td>\n",
       "      <td>5.000000</td>\n",
       "      <td>0.000000</td>\n",
       "      <td>3.000000</td>\n",
       "      <td>3.000000</td>\n",
       "      <td>4.000000</td>\n",
       "      <td>3.000000</td>\n",
       "      <td>0.000000</td>\n",
       "      <td>4.000000</td>\n",
       "      <td>364.500000</td>\n",
       "      <td>1.000000</td>\n",
       "      <td>0.000000</td>\n",
       "      <td>473.500000</td>\n",
       "      <td>990.000000</td>\n",
       "      <td>5.000000</td>\n",
       "      <td>5.000000</td>\n",
       "      <td>1090.000000</td>\n",
       "      <td>0.000000</td>\n",
       "      <td>0.000000</td>\n",
       "      <td>1440.000000</td>\n",
       "      <td>0.000000</td>\n",
       "      <td>0.000000</td>\n",
       "      <td>2.000000</td>\n",
       "      <td>0.000000</td>\n",
       "      <td>3.000000</td>\n",
       "      <td>1.000000</td>\n",
       "      <td>3.000000</td>\n",
       "      <td>6.000000</td>\n",
       "      <td>8.000000</td>\n",
       "      <td>1.000000</td>\n",
       "      <td>1.000000</td>\n",
       "      <td>2.000000</td>\n",
       "      <td>2.000000</td>\n",
       "      <td>479.000000</td>\n",
       "      <td>3.000000</td>\n",
       "      <td>3.000000</td>\n",
       "      <td>2.000000</td>\n",
       "      <td>0.000000</td>\n",
       "      <td>26.000000</td>\n",
       "      <td>0.000000</td>\n",
       "      <td>0.000000</td>\n",
       "      <td>0.000000</td>\n",
       "      <td>0.000000</td>\n",
       "      <td>0.000000</td>\n",
       "      <td>0.000000</td>\n",
       "      <td>0.000000</td>\n",
       "      <td>6.000000</td>\n",
       "      <td>2008.000000</td>\n",
       "      <td>161000.000000</td>\n",
       "      <td>2.000000</td>\n",
       "      <td>34.000000</td>\n",
       "      <td>16.000000</td>\n",
       "    </tr>\n",
       "    <tr>\n",
       "      <th>75%</th>\n",
       "      <td>2196.000000</td>\n",
       "      <td>70.000000</td>\n",
       "      <td>80.000000</td>\n",
       "      <td>11425.500000</td>\n",
       "      <td>4.000000</td>\n",
       "      <td>1.000000</td>\n",
       "      <td>3.000000</td>\n",
       "      <td>7.000000</td>\n",
       "      <td>6.000000</td>\n",
       "      <td>150.000000</td>\n",
       "      <td>4.000000</td>\n",
       "      <td>3.000000</td>\n",
       "      <td>4.000000</td>\n",
       "      <td>3.000000</td>\n",
       "      <td>2.000000</td>\n",
       "      <td>6.000000</td>\n",
       "      <td>727.000000</td>\n",
       "      <td>1.000000</td>\n",
       "      <td>0.000000</td>\n",
       "      <td>810.000000</td>\n",
       "      <td>1304.000000</td>\n",
       "      <td>5.000000</td>\n",
       "      <td>5.000000</td>\n",
       "      <td>1388.000000</td>\n",
       "      <td>689.000000</td>\n",
       "      <td>0.000000</td>\n",
       "      <td>1720.000000</td>\n",
       "      <td>1.000000</td>\n",
       "      <td>0.000000</td>\n",
       "      <td>2.000000</td>\n",
       "      <td>1.000000</td>\n",
       "      <td>3.000000</td>\n",
       "      <td>1.000000</td>\n",
       "      <td>4.000000</td>\n",
       "      <td>7.000000</td>\n",
       "      <td>8.000000</td>\n",
       "      <td>1.000000</td>\n",
       "      <td>4.000000</td>\n",
       "      <td>2.000000</td>\n",
       "      <td>2.000000</td>\n",
       "      <td>576.000000</td>\n",
       "      <td>3.000000</td>\n",
       "      <td>3.000000</td>\n",
       "      <td>2.000000</td>\n",
       "      <td>168.000000</td>\n",
       "      <td>69.000000</td>\n",
       "      <td>0.000000</td>\n",
       "      <td>0.000000</td>\n",
       "      <td>0.000000</td>\n",
       "      <td>0.000000</td>\n",
       "      <td>0.000000</td>\n",
       "      <td>0.000000</td>\n",
       "      <td>0.000000</td>\n",
       "      <td>8.000000</td>\n",
       "      <td>2009.000000</td>\n",
       "      <td>212304.500000</td>\n",
       "      <td>2.000000</td>\n",
       "      <td>55.000000</td>\n",
       "      <td>44.000000</td>\n",
       "    </tr>\n",
       "    <tr>\n",
       "      <th>max</th>\n",
       "      <td>2930.000000</td>\n",
       "      <td>190.000000</td>\n",
       "      <td>313.000000</td>\n",
       "      <td>159000.000000</td>\n",
       "      <td>4.000000</td>\n",
       "      <td>1.000000</td>\n",
       "      <td>5.000000</td>\n",
       "      <td>10.000000</td>\n",
       "      <td>9.000000</td>\n",
       "      <td>1600.000000</td>\n",
       "      <td>5.000000</td>\n",
       "      <td>5.000000</td>\n",
       "      <td>5.000000</td>\n",
       "      <td>5.000000</td>\n",
       "      <td>4.000000</td>\n",
       "      <td>6.000000</td>\n",
       "      <td>5644.000000</td>\n",
       "      <td>6.000000</td>\n",
       "      <td>1474.000000</td>\n",
       "      <td>2336.000000</td>\n",
       "      <td>6110.000000</td>\n",
       "      <td>5.000000</td>\n",
       "      <td>5.000000</td>\n",
       "      <td>5095.000000</td>\n",
       "      <td>1836.000000</td>\n",
       "      <td>1064.000000</td>\n",
       "      <td>5642.000000</td>\n",
       "      <td>3.000000</td>\n",
       "      <td>2.000000</td>\n",
       "      <td>4.000000</td>\n",
       "      <td>2.000000</td>\n",
       "      <td>8.000000</td>\n",
       "      <td>3.000000</td>\n",
       "      <td>5.000000</td>\n",
       "      <td>15.000000</td>\n",
       "      <td>8.000000</td>\n",
       "      <td>4.000000</td>\n",
       "      <td>5.000000</td>\n",
       "      <td>3.000000</td>\n",
       "      <td>5.000000</td>\n",
       "      <td>1418.000000</td>\n",
       "      <td>5.000000</td>\n",
       "      <td>5.000000</td>\n",
       "      <td>2.000000</td>\n",
       "      <td>1424.000000</td>\n",
       "      <td>547.000000</td>\n",
       "      <td>432.000000</td>\n",
       "      <td>508.000000</td>\n",
       "      <td>490.000000</td>\n",
       "      <td>800.000000</td>\n",
       "      <td>5.000000</td>\n",
       "      <td>4.000000</td>\n",
       "      <td>17000.000000</td>\n",
       "      <td>12.000000</td>\n",
       "      <td>2010.000000</td>\n",
       "      <td>446261.000000</td>\n",
       "      <td>6.000000</td>\n",
       "      <td>136.000000</td>\n",
       "      <td>60.000000</td>\n",
       "    </tr>\n",
       "  </tbody>\n",
       "</table>\n",
       "</div>"
      ],
      "text/plain": [
       "                id  ms_subclass  lot_frontage       lot_area    lot_shape  \\\n",
       "count  2027.000000  2027.000000   1698.000000    2027.000000  2027.000000   \n",
       "mean   1476.234336    57.222496     68.813310    9969.845585     3.599408   \n",
       "std     843.033223    42.972090     23.206178    6622.475755     0.564112   \n",
       "min       1.000000    20.000000     21.000000    1300.000000     1.000000   \n",
       "25%     761.500000    20.000000     58.000000    7500.000000     3.000000   \n",
       "50%    1486.000000    50.000000     68.000000    9360.000000     4.000000   \n",
       "75%    2196.000000    70.000000     80.000000   11425.500000     4.000000   \n",
       "max    2930.000000   190.000000    313.000000  159000.000000     4.000000   \n",
       "\n",
       "         utilities   land_slope  overall_qual  overall_cond  mas_vnr_area  \\\n",
       "count  2027.000000  2027.000000   2027.000000   2027.000000   2006.000000   \n",
       "mean      0.999013     3.078934      6.072521      5.566848     94.339980   \n",
       "std       0.031404     0.408069      1.385715      1.106762    166.183002   \n",
       "min       0.000000     2.000000      1.000000      1.000000      0.000000   \n",
       "25%       1.000000     3.000000      5.000000      5.000000      0.000000   \n",
       "50%       1.000000     3.000000      6.000000      5.000000      0.000000   \n",
       "75%       1.000000     3.000000      7.000000      6.000000    150.000000   \n",
       "max       1.000000     5.000000     10.000000      9.000000   1600.000000   \n",
       "\n",
       "        exter_qual   exter_cond    bsmt_qual    bsmt_cond  bsmt_exposure  \\\n",
       "count  2027.000000  2027.000000  2026.000000  2026.000000    2023.000000   \n",
       "mean      3.389739     3.084854     3.475814     2.929418       0.950568   \n",
       "std       0.569939     0.371362     0.890364     0.571291       1.468606   \n",
       "min       2.000000     1.000000     0.000000     0.000000       0.000000   \n",
       "25%       3.000000     3.000000     3.000000     3.000000       0.000000   \n",
       "50%       3.000000     3.000000     4.000000     3.000000       0.000000   \n",
       "75%       4.000000     3.000000     4.000000     3.000000       2.000000   \n",
       "max       5.000000     5.000000     5.000000     5.000000       4.000000   \n",
       "\n",
       "       bsmtfin_type_1  bsmtfin_sf_1  bsmtfin_type_2  bsmtfin_sf_2  \\\n",
       "count     2026.000000   2026.000000     2025.000000   2026.000000   \n",
       "mean         3.549358    433.498519        1.274568     47.573544   \n",
       "std          2.121444    450.016944        0.944963    162.820018   \n",
       "min          0.000000      0.000000        0.000000      0.000000   \n",
       "25%          1.000000      0.000000        1.000000      0.000000   \n",
       "50%          4.000000    364.500000        1.000000      0.000000   \n",
       "75%          6.000000    727.000000        1.000000      0.000000   \n",
       "max          6.000000   5644.000000        6.000000   1474.000000   \n",
       "\n",
       "       bsmt_unf_sf  total_bsmt_sf   heating_qc   electrical   1st_flr_sf  \\\n",
       "count  2026.000000    2026.000000  2027.000000  2027.000000  2027.000000   \n",
       "mean    565.069595    1046.141658     4.148495     4.884065  1153.922546   \n",
       "std     442.365222     435.539105     0.965420     0.404659   384.635878   \n",
       "min       0.000000       0.000000     1.000000     1.000000   334.000000   \n",
       "25%     219.250000     789.000000     3.000000     5.000000   877.500000   \n",
       "50%     473.500000     990.000000     5.000000     5.000000  1090.000000   \n",
       "75%     810.000000    1304.000000     5.000000     5.000000  1388.000000   \n",
       "max    2336.000000    6110.000000     5.000000     5.000000  5095.000000   \n",
       "\n",
       "        2nd_flr_sf  low_qual_fin_sf  gr_liv_area  bsmt_full_bath  \\\n",
       "count  2027.000000      2027.000000  2027.000000     2025.000000   \n",
       "mean    326.503207         5.296004  1485.721756        0.422716   \n",
       "std     421.200165        49.800978   484.951124        0.521360   \n",
       "min       0.000000         0.000000   334.000000        0.000000   \n",
       "25%       0.000000         0.000000  1126.000000        0.000000   \n",
       "50%       0.000000         0.000000  1440.000000        0.000000   \n",
       "75%     689.000000         0.000000  1720.000000        1.000000   \n",
       "max    1836.000000      1064.000000  5642.000000        3.000000   \n",
       "\n",
       "       bsmt_half_bath    full_bath    half_bath  bedroom_abvgr  kitchen_abvgr  \\\n",
       "count     2025.000000  2027.000000  2027.000000    2027.000000    2027.000000   \n",
       "mean         0.064198     1.568821     0.366058       2.841145       1.043414   \n",
       "std          0.253098     0.544718     0.499943       0.823773       0.210977   \n",
       "min          0.000000     0.000000     0.000000       0.000000       0.000000   \n",
       "25%          0.000000     1.000000     0.000000       2.000000       1.000000   \n",
       "50%          0.000000     2.000000     0.000000       3.000000       1.000000   \n",
       "75%          0.000000     2.000000     1.000000       3.000000       1.000000   \n",
       "max          2.000000     4.000000     2.000000       8.000000       3.000000   \n",
       "\n",
       "       kitchen_qual  totrms_abvgrd   functional   fireplaces  fireplace_qu  \\\n",
       "count   2027.000000    2027.000000  2027.000000  2027.000000   2027.000000   \n",
       "mean       3.500247       6.398619     7.842625     0.581154      1.736556   \n",
       "std        0.650290       1.520170     0.684332     0.633625      1.799874   \n",
       "min        2.000000       2.000000     1.000000     0.000000      0.000000   \n",
       "25%        3.000000       5.000000     8.000000     0.000000      0.000000   \n",
       "50%        3.000000       6.000000     8.000000     1.000000      1.000000   \n",
       "75%        4.000000       7.000000     8.000000     1.000000      4.000000   \n",
       "max        5.000000      15.000000     8.000000     4.000000      5.000000   \n",
       "\n",
       "       garage_finish  garage_cars  garage_area  garage_qual  garage_cond  \\\n",
       "count    2026.000000  2026.000000  2026.000000  2026.000000  2026.000000   \n",
       "mean        1.712734     1.761599   468.621422     2.800099     2.809477   \n",
       "std         0.895754     0.756161   211.270567     0.720096     0.717492   \n",
       "min         0.000000     0.000000     0.000000     0.000000     0.000000   \n",
       "25%         1.000000     1.000000   315.250000     3.000000     3.000000   \n",
       "50%         2.000000     2.000000   479.000000     3.000000     3.000000   \n",
       "75%         2.000000     2.000000   576.000000     3.000000     3.000000   \n",
       "max         3.000000     5.000000  1418.000000     5.000000     5.000000   \n",
       "\n",
       "       paved_drive  wood_deck_sf  open_porch_sf  enclosed_porch   3ssn_porch  \\\n",
       "count  2027.000000   2027.000000    2027.000000     2027.000000  2027.000000   \n",
       "mean      1.831771     92.726196      46.766157       22.804637     2.622102   \n",
       "std       0.537642    127.167578      66.121889       60.140788    25.377024   \n",
       "min       0.000000      0.000000       0.000000        0.000000     0.000000   \n",
       "25%       2.000000      0.000000       0.000000        0.000000     0.000000   \n",
       "50%       2.000000      0.000000      26.000000        0.000000     0.000000   \n",
       "75%       2.000000    168.000000      69.000000        0.000000     0.000000   \n",
       "max       2.000000   1424.000000     547.000000      432.000000   508.000000   \n",
       "\n",
       "       screen_porch    pool_area      pool_qc        fence      misc_val  \\\n",
       "count   2027.000000  2027.000000  2027.000000  2027.000000   2027.000000   \n",
       "mean      15.567341     2.426246     0.015294     0.579674     52.185002   \n",
       "std       55.442150    38.004791     0.237756     1.214401    576.752561   \n",
       "min        0.000000     0.000000     0.000000     0.000000      0.000000   \n",
       "25%        0.000000     0.000000     0.000000     0.000000      0.000000   \n",
       "50%        0.000000     0.000000     0.000000     0.000000      0.000000   \n",
       "75%        0.000000     0.000000     0.000000     0.000000      0.000000   \n",
       "max      490.000000   800.000000     5.000000     4.000000  17000.000000   \n",
       "\n",
       "           mo_sold      yr_sold      saleprice    area_qual          age  \\\n",
       "count  2027.000000  2027.000000    2027.000000  2027.000000  2027.000000   \n",
       "mean      6.222003  2007.776024  177568.413912     1.895412    36.409472   \n",
       "std       2.748786     1.310282   70887.597221     0.426091    30.124504   \n",
       "min       1.000000  2006.000000   12789.000000     0.000000    -1.000000   \n",
       "25%       4.000000  2007.000000  129500.000000     2.000000     7.000000   \n",
       "50%       6.000000  2008.000000  161000.000000     2.000000    34.000000   \n",
       "75%       8.000000  2009.000000  212304.500000     2.000000    55.000000   \n",
       "max      12.000000  2010.000000  446261.000000     6.000000   136.000000   \n",
       "\n",
       "       yrs_sincerm  \n",
       "count  2027.000000  \n",
       "mean     23.837691  \n",
       "std      21.012449  \n",
       "min      -2.000000  \n",
       "25%       4.000000  \n",
       "50%      16.000000  \n",
       "75%      44.000000  \n",
       "max      60.000000  "
      ]
     },
     "execution_count": 17,
     "metadata": {},
     "output_type": "execute_result"
    }
   ],
   "source": [
    "df_train.describe()"
   ]
  },
  {
   "cell_type": "markdown",
   "id": "10420680-323a-498d-ad28-40968dde3dbb",
   "metadata": {},
   "source": [
    "Train dataset now has some negative numbers for age/years since remodelling. Negative age likely due to delay in paperwork filed with city officials, leading to the house being sold prior to the city registering the house. These values set to 0. Negative years since remodelling signify houses for which remodels were done after sale, and the scraping of the city data system yielded the result. Since that remodel is immaterial to the sale, and we cannot know when the previous remodel was done, these values will be set equal to age."
   ]
  },
  {
   "cell_type": "code",
   "execution_count": 18,
   "id": "1e12c7aa-32ac-4957-8436-d9aadfb7c163",
   "metadata": {},
   "outputs": [],
   "source": [
    "df_train['age'] = [0 if i < 0 else i for i in df_train['age']]\n",
    "df_train.loc[(df_train['yrs_sincerm'] < 0 ), 'yrs_sincerm'] = df_train['age']"
   ]
  },
  {
   "cell_type": "markdown",
   "id": "dd2c2535-1fa8-4df5-acc6-35c1393c693f",
   "metadata": {},
   "source": [
    "### Outlier Analysis"
   ]
  },
  {
   "cell_type": "markdown",
   "id": "88086e8f-c2ab-461c-8701-5f134f0c2bf3",
   "metadata": {},
   "source": [
    "Upon performing EDA, identified two houses with lot frontage close to 100% higher than the nearest lot frontages. These will be removed from analysis for the purpose of contributing to more effective modeling. One house had a lot area ~40% higher than the next largest area, this was removed as well. Two houses with an above ground living area of ~33% above the next largest data point was also removed."
   ]
  },
  {
   "cell_type": "code",
   "execution_count": 19,
   "id": "f552b534-1d4d-4f26-94b4-d56acbb4a105",
   "metadata": {},
   "outputs": [
    {
     "data": {
      "image/png": "[encoded data removed]",
      "text/plain": [
       "<Figure size 1440x432 with 3 Axes>"
      ]
     },
     "metadata": {
      "needs_background": "light"
     },
     "output_type": "display_data"
    }
   ],
   "source": [
    "fig,ax = plt.subplots(1,3,figsize=(20,6))\n",
    "sns.regplot(x='lot_frontage',y='saleprice', data=df_train,ax=ax[0])\n",
    "sns.regplot(x='lot_area',y='saleprice', data=df_train,ax=ax[1])\n",
    "sns.regplot(x='gr_liv_area',y='saleprice', data=df_train,ax=ax[2]);"
   ]
  },
  {
   "cell_type": "code",
   "execution_count": 20,
   "id": "376ee71a-40cc-46f5-b79d-4d1f849a37d4",
   "metadata": {},
   "outputs": [],
   "source": [
    "df_train.drop(df_train[df_train['lot_frontage'] > 300].index,inplace=True)                                  \n",
    "df_train = df_train[df_train['lot_area'] < 110000]\n",
    "df_train = df_train[df_train['gr_liv_area'] < 4000]"
   ]
  },
  {
   "cell_type": "code",
   "execution_count": 21,
   "id": "132fe04e-b58c-4b1c-a470-d5e56fe7fa3a",
   "metadata": {},
   "outputs": [
    {
     "data": {
      "text/plain": [
       "((2022, 78), (878, 77))"
      ]
     },
     "execution_count": 21,
     "metadata": {},
     "output_type": "execute_result"
    }
   ],
   "source": [
    "df_train.shape, df_test.shape"
   ]
  },
  {
   "cell_type": "markdown",
   "id": "b0d15e42-1bde-4004-8192-4e620b419ab2",
   "metadata": {},
   "source": [
    "### Train Test Split"
   ]
  },
  {
   "cell_type": "code",
   "execution_count": 22,
   "id": "a15c21f3-4aea-4a80-8436-e7cb32c35b0e",
   "metadata": {},
   "outputs": [],
   "source": [
    "X = df_train.drop(columns='saleprice')\n",
    "y = df_train['saleprice']"
   ]
  },
  {
   "cell_type": "code",
   "execution_count": 23,
   "id": "a4e940de-f1f4-4da9-bb8e-4af12cfc9d19",
   "metadata": {},
   "outputs": [],
   "source": [
    "X_train, X_val, y_train, y_val = train_test_split(X,y,random_state=25)"
   ]
  },
  {
   "cell_type": "markdown",
   "id": "c57a2e2c-ed65-4dae-8578-c286cd955ad9",
   "metadata": {},
   "source": [
    "### Lets start by taking a look at the missing values in Train"
   ]
  },
  {
   "cell_type": "code",
   "execution_count": 24,
   "id": "4a0f372e-c05d-4169-a789-0408703e1ef3",
   "metadata": {},
   "outputs": [
    {
     "data": {
      "text/plain": [
       "lot_frontage      239\n",
       "mas_vnr_area       15\n",
       "mas_vnr_type       15\n",
       "bsmt_exposure       3\n",
       "bsmt_full_bath      2\n",
       "bsmt_half_bath      2\n",
       "garage_finish       1\n",
       "bsmtfin_type_1      1\n",
       "bsmt_qual           1\n",
       "bsmtfin_sf_1        1\n",
       "garage_cars         1\n",
       "garage_area         1\n",
       "bsmtfin_type_2      1\n",
       "bsmtfin_sf_2        1\n",
       "garage_qual         1\n",
       "garage_cond         1\n",
       "bsmt_unf_sf         1\n",
       "total_bsmt_sf       1\n",
       "bsmt_cond           1\n",
       "dtype: int64"
      ]
     },
     "execution_count": 24,
     "metadata": {},
     "output_type": "execute_result"
    }
   ],
   "source": [
    "X_train.isnull().sum().sort_values(ascending=False).loc[lambda x: x > 0]"
   ]
  },
  {
   "cell_type": "markdown",
   "id": "d2ea679b-454d-476a-9768-12eb365de7e8",
   "metadata": {},
   "source": [
    "For lot frontage, I was interested to see whether it was possible that these were valid null entries, that these houses did not have frontage because there were apartments, for instance. After looking through a the possible values for a few of the features that might indicate the answer, I decided that all of the properties in this dataset should have frontages. I decided that the best way to assign values to these missing entries is by taking the mean of the other properties that had the same lot configuration (culdesac, corner lot, interior lot.)"
   ]
  },
  {
   "cell_type": "code",
   "execution_count": 25,
   "id": "05a354dd-7b48-4596-a2cb-f80845b83949",
   "metadata": {},
   "outputs": [],
   "source": [
    "lc_lf_mean = X_train['lot_frontage'].groupby(X_train['lot_config']).mean()\n",
    "lf_mean = dict(lc_lf_mean)"
   ]
  },
  {
   "cell_type": "markdown",
   "id": "8cbeaf79-ed4a-4c45-a3d2-b87bd9532829",
   "metadata": {},
   "source": [
    "Writing function to apply means I calculated to the missing values in the lot_frontage column. "
   ]
  },
  {
   "cell_type": "code",
   "execution_count": 26,
   "id": "ec8216a6-fa2d-4489-b48d-b993cc64c413",
   "metadata": {},
   "outputs": [],
   "source": [
    "def assign_lot_front(mean_dict,dataframe):\n",
    "    for k,v in mean_dict.items():\n",
    "        dataframe.loc[(dataframe['lot_frontage'].isna()) & (dataframe['lot_config'] == k), 'lot_frontage'] = int(v)"
   ]
  },
  {
   "cell_type": "markdown",
   "id": "2a2bf004-9597-46df-b38e-7bd113c36e51",
   "metadata": {},
   "source": [
    "Applying same function to train, val and test."
   ]
  },
  {
   "cell_type": "code",
   "execution_count": 27,
   "id": "f3132b09-3efc-41ba-9aae-2af579504683",
   "metadata": {},
   "outputs": [],
   "source": [
    "assign_lot_front(lf_mean,X_train)\n",
    "assign_lot_front(lf_mean,X_val)\n",
    "assign_lot_front(lf_mean,df_test)"
   ]
  },
  {
   "cell_type": "code",
   "execution_count": 28,
   "id": "7249aae1-20ef-48f0-b9a1-7ecf528ef4d6",
   "metadata": {},
   "outputs": [
    {
     "data": {
      "text/plain": [
       "mas_vnr_type      6\n",
       "mas_vnr_area      6\n",
       "bsmt_exposure     1\n",
       "bsmtfin_type_2    1\n",
       "dtype: int64"
      ]
     },
     "execution_count": 28,
     "metadata": {},
     "output_type": "execute_result"
    }
   ],
   "source": [
    "X_train.isnull().sum().sort_values(ascending=False).loc[lambda x: x > 0]\n",
    "X_val.isnull().sum().sort_values(ascending=False).loc[lambda x: x > 0]"
   ]
  },
  {
   "cell_type": "markdown",
   "id": "bb8954bf-0a4d-441a-9aad-5a15d02642e9",
   "metadata": {},
   "source": [
    "After further review of the remaining missing data, elected to proceed with a simple imputer that replaces missing data with the most frequent value for that feature. Values fitted from train applied to validation and test data."
   ]
  },
  {
   "cell_type": "code",
   "execution_count": 29,
   "id": "4725cd5e-1908-418f-b5d5-dc919246dd21",
   "metadata": {
    "tags": []
   },
   "outputs": [],
   "source": [
    "si = SimpleImputer(strategy='most_frequent')"
   ]
  },
  {
   "cell_type": "code",
   "execution_count": 30,
   "id": "a104fd95-26a2-4b0c-8663-6f994767c972",
   "metadata": {},
   "outputs": [],
   "source": [
    "X_train_f = si.fit_transform(X_train)\n",
    "X_train_f = pd.DataFrame(X_train_f,columns=X_train.columns)"
   ]
  },
  {
   "cell_type": "code",
   "execution_count": 31,
   "id": "89f050ed-5a41-4458-b9a1-3b864fa42c88",
   "metadata": {},
   "outputs": [],
   "source": [
    "X_val_f = si.transform(X_val)\n",
    "X_val_f = pd.DataFrame(X_val_f,columns=X_val.columns)\n",
    "df_test_f = si.transform(df_test)\n",
    "df_test_f = pd.DataFrame(df_test_f,columns=df_test.columns)"
   ]
  },
  {
   "cell_type": "markdown",
   "id": "d4e15e16-633f-4a4e-b7c4-161a3b9016ae",
   "metadata": {},
   "source": [
    "### Missing Data has now been Replaced"
   ]
  },
  {
   "cell_type": "code",
   "execution_count": 32,
   "id": "4c6580a8-6205-41da-8772-300daee79cb4",
   "metadata": {},
   "outputs": [
    {
     "data": {
      "text/plain": [
       "((1516, 77), (506, 77))"
      ]
     },
     "execution_count": 32,
     "metadata": {},
     "output_type": "execute_result"
    }
   ],
   "source": [
    "X_train_f.shape,X_val_f.shape"
   ]
  },
  {
   "cell_type": "code",
   "execution_count": 33,
   "id": "ced46835-d185-40b7-b94c-f5c9d083423b",
   "metadata": {},
   "outputs": [
    {
     "data": {
      "text/plain": [
       "(878, 77)"
      ]
     },
     "execution_count": 33,
     "metadata": {},
     "output_type": "execute_result"
    }
   ],
   "source": [
    "df_test_f.shape"
   ]
  },
  {
   "cell_type": "code",
   "execution_count": 34,
   "id": "ca9c79bc-60e0-4b72-a20f-58cdad20a20f",
   "metadata": {},
   "outputs": [],
   "source": [
    "X_train_f.to_csv('../datasets/clean_filled/xtrain_clean.csv', index=False)\n",
    "X_val_f.to_csv('../datasets/clean_filled/xval_clean.csv', index=False)\n",
    "y_train.to_csv('../datasets/clean_filled/ytrain_clean.csv', index=False)\n",
    "y_val.to_csv('../datasets/clean_filled/yval_clean.csv', index=False)\n",
    "df_test_f.to_csv('../datasets/clean_filled/test_clean.csv', index=False)"
   ]
  }
 ],
 "metadata": {
  "kernelspec": {
   "display_name": "Python 3 (ipykernel)",
   "language": "python",
   "name": "python3"
  },
  "language_info": {
   "codemirror_mode": {
    "name": "ipython",
    "version": 3
   },
   "file_extension": ".py",
   "mimetype": "text/x-python",
   "name": "python",
   "nbconvert_exporter": "python",
   "pygments_lexer": "ipython3",
   "version": "3.9.7"
  }
 },
 "nbformat": 4,
 "nbformat_minor": 5
}
