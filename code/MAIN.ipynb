{
 "cells": [
  {
   "cell_type": "code",
   "execution_count": 1,
   "id": "612ffe20-f292-43a2-b0ed-fa452497ad72",
   "metadata": {},
   "outputs": [],
   "source": [
    "import pandas as pd\n",
    "import numpy as np\n",
    "from scipy import stats\n",
    "from sklearn.preprocessing import OneHotEncoder\n",
    "from sklearn.compose import make_column_transformer\n",
    "from sklearn.compose import ColumnTransformer\n",
    "from sklearn.preprocessing import StandardScaler\n",
    "from sklearn.compose import TransformedTargetRegressor\n",
    "from sklearn.linear_model import LinearRegression,LassoCV, RidgeCV, Lasso, Ridge\n",
    "from sklearn.pipeline import Pipeline\n",
    "from sklearn.model_selection import cross_val_score\n",
    "from sklearn.preprocessing import PolynomialFeatures\n",
    "from sklearn.feature_selection import RFE\n",
    "from sklearn.model_selection import GridSearchCV\n",
    "from sklearn.metrics import mean_squared_error\n",
    "from sklearn.metrics import r2_score\n",
    "from sklearn.metrics import mean_absolute_error\n",
    "from sklearn.linear_model import ElasticNet\n",
    "import seaborn as sns\n",
    "import matplotlib.pyplot as plt\n",
    "import sys\n",
    "if not sys.warnoptions:\n",
    "    import warnings\n",
    "    warnings.simplefilter(\"ignore\")"
   ]
  },
  {
   "cell_type": "code",
   "execution_count": 2,
   "id": "64cea23b-e902-48bd-aa10-a4b4ea429f9b",
   "metadata": {},
   "outputs": [],
   "source": [
    "pd.set_option('display.max_rows', None)\n",
    "pd.set_option('display.max_columns', None)"
   ]
  },
  {
   "cell_type": "code",
   "execution_count": 3,
   "id": "0e67abe8-bbe8-4f69-abe5-0a03859dd99a",
   "metadata": {},
   "outputs": [],
   "source": [
    "X_val = pd.read_csv('../datasets/clean_filled/xval_clean.csv',keep_default_na=False,na_values='')\n",
    "X_train = pd.read_csv('../datasets/clean_filled/xtrain_clean.csv',keep_default_na=False,na_values='')\n",
    "df_test = pd.read_csv('../datasets/clean_filled/test_clean.csv',keep_default_na=False,na_values='')\n",
    "y_val = pd.read_csv('../datasets/clean_filled/yval_clean.csv',keep_default_na=False,na_values='')\n",
    "y_train = pd.read_csv('../datasets/clean_filled/ytrain_clean.csv',keep_default_na=False,na_values='')"
   ]
  },
  {
   "cell_type": "code",
   "execution_count": 4,
   "id": "6daa18ee-6978-4e3e-98a9-d5ecfdb96f71",
   "metadata": {},
   "outputs": [
    {
     "data": {
      "text/plain": [
       "((506, 77), (1516, 77), (878, 77))"
      ]
     },
     "execution_count": 4,
     "metadata": {},
     "output_type": "execute_result"
    }
   ],
   "source": [
    "X_val.shape,X_train.shape,df_test.shape"
   ]
  },
  {
   "cell_type": "code",
   "execution_count": 5,
   "id": "c1de06ca-b8b0-46e7-b5c6-ce5251d5137f",
   "metadata": {},
   "outputs": [],
   "source": [
    "test_id = df_test['id']"
   ]
  },
  {
   "cell_type": "markdown",
   "id": "79cbd125-a134-479c-a8cb-967b4fb5f592",
   "metadata": {},
   "source": [
    "#### Log Transforming y"
   ]
  },
  {
   "cell_type": "markdown",
   "id": "af7b630a-9bbe-4656-8d84-6ace1954ce7a",
   "metadata": {},
   "source": [
    "Creating log transformations of the Sale Price data because of its skew. Will test during modeling whether it improves the accuracy of the model's predictions."
   ]
  },
  {
   "cell_type": "code",
   "execution_count": 6,
   "id": "870381ee-9f39-4078-85fd-96e5c11b7899",
   "metadata": {},
   "outputs": [],
   "source": [
    "log_ytrain = np.log(y_train)"
   ]
  },
  {
   "cell_type": "code",
   "execution_count": 7,
   "id": "2383a1de-25aa-40f9-9958-5f6dfd00ce03",
   "metadata": {},
   "outputs": [],
   "source": [
    "log_yval = np.log(y_val)"
   ]
  },
  {
   "cell_type": "code",
   "execution_count": 8,
   "id": "d51d0a93-dcde-450c-868d-f295d59b89be",
   "metadata": {},
   "outputs": [
    {
     "data": {
      "image/png": "[encoded data removed]",
      "text/plain": [
       "<Figure size 432x288 with 1 Axes>"
      ]
     },
     "metadata": {
      "needs_background": "light"
     },
     "output_type": "display_data"
    }
   ],
   "source": [
    "sns.histplot(y_train).set(title = 'Distribtuion of Sales Prices, Training Set');"
   ]
  },
  {
   "cell_type": "code",
   "execution_count": 9,
   "id": "2b34fb20-7ed1-4c3a-936f-3fb365826a06",
   "metadata": {},
   "outputs": [
    {
     "data": {
      "image/png": "[encoded data removed]",
      "text/plain": [
       "<Figure size 432x288 with 1 Axes>"
      ]
     },
     "metadata": {
      "needs_background": "light"
     },
     "output_type": "display_data"
    }
   ],
   "source": [
    "sns.histplot(y_val).set(title = 'Distribtuion of Sales Prices, Validation Set');"
   ]
  },
  {
   "cell_type": "markdown",
   "id": "10087fc7-a768-407c-8848-3d16f000c776",
   "metadata": {},
   "source": [
    "Below I take steps to split the data columns into the columns that will be treated as numerical and categorical when passed through the column transformer."
   ]
  },
  {
   "cell_type": "code",
   "execution_count": 10,
   "id": "a74cbcce-eb4a-4dac-b20b-433a571a211d",
   "metadata": {},
   "outputs": [],
   "source": [
    "ordinal = ['overall_qual','overall_cond','exter_qual','exter_cond','bsmt_qual',\\\n",
    "    'bsmt_cond','bsmtfin_type_1','bsmtfin_type_2','heating_qc','electrical','kitchen_qual','functional',\\\n",
    "    'fireplace_qu','garage_finish','garage_qual','garage_cond','paved_drive','pool_qc','fence',\\\n",
    "    'lot_shape','utilities','land_slope','bsmt_exposure','area_qual']"
   ]
  },
  {
   "cell_type": "code",
   "execution_count": 11,
   "id": "99edb830-57f3-4864-a1b1-a8d87648136f",
   "metadata": {},
   "outputs": [],
   "source": [
    "num_as_cat = ['ms_subclass','bsmt_full_bath', 'bsmt_half_bath', 'full_bath', 'half_bath', 'bedroom_abvgr', 'kitchen_abvgr',\\\n",
    "             'garage_cars','mo_sold','yr_sold']"
   ]
  },
  {
   "cell_type": "code",
   "execution_count": 12,
   "id": "3f93c317-c248-4dc7-895a-c5733e04de0d",
   "metadata": {
    "tags": []
   },
   "outputs": [],
   "source": [
    "numeric = [col for col in X_train._get_numeric_data().columns if col not in ordinal and col not in num_as_cat]\n",
    "categorical = [col for col in X_train.columns if col not in numeric]"
   ]
  },
  {
   "cell_type": "markdown",
   "id": "b2ea48d9-08cb-4d1e-a7e1-4604184ec146",
   "metadata": {
    "tags": []
   },
   "source": [
    "### Preprocessing & Modeling"
   ]
  },
  {
   "cell_type": "markdown",
   "id": "39f38561-f506-492b-b26e-7df3f56fc421",
   "metadata": {},
   "source": [
    "Below are the features that I dropped from my regression analysis.\n",
    "\n",
    "The features I dropped to limit multicollinearity are below, identified through EDA:\n",
    "* Garage cars, correlated to garage area.\n",
    "* Garage condition, correlated to garage quality.\n",
    "* Total rooms above ground/1st floor sq/2nd floor sq ..  correlated to above ground living area.\n",
    "* Basement condition, correlated to basement quality.\n",
    "* External quality, related to overall quality.\n",
    "* Fireplace Quality, correlated to having a fireplace.\n",
    "\n",
    "The remainder of the features were dropped through trial and error, finding what combination of features best explained the variance of sales price in the validation set of transactions. I took a very hands-on process in determining which features to include, and produced a model which generated results with an accuracy I was OK with, and with attention paid to the data science problem: what can our homeowners change in a matter of months. That being said, splitting data into what I deem can be changed/what cant be changed and then utilizing RFE would likely have contributed to the quicker identification of which features to include from a control standpoint, and which featurs to include from an inferential standpoint. However, when I arrived at a set of features that I felt answered my data science problem, with a model accuracy that I considered to be satisfactory, I elected not to proceed with utilizing further RFE."
   ]
  },
  {
   "cell_type": "code",
   "execution_count": 13,
   "id": "677bdc0d-49bc-4a04-a421-0fe10aafcd11",
   "metadata": {},
   "outputs": [],
   "source": [
    "extraneous = ['id','street','alley','lot_shape','bsmt_exposure','misc_val','misc_feature',\\\n",
    "             'pool_qc','bsmt_half_bath','bsmtfin_type_2',\\\n",
    "             'functional','low_qual_fin_sf','electrical',\\\n",
    "             'bsmtfin_sf_2','utilities',\\\n",
    "             'ms_zoning','mo_sold',\\\n",
    "             'enclosed_porch','kitchen_abvgr',\\\n",
    "             'heating','bsmt_unf_sf','bsmtfin_sf_1',\\\n",
    "             'roof_style','land_contour','ms_subclass', 'lot_frontage',\n",
    "             'lot_config', 'land_slope', 'mas_vnr_type', 'mas_vnr_area',\\\n",
    "             'garage_type','exterior_2nd',\\\n",
    "             'area_qual','garage_finish','bsmtfin_type_1',\\\n",
    "             'yrs_sincerm','foundation',\\\n",
    "             'pool_area','roof_matl','exter_cond','3ssn_porch','screen_porch']             \n",
    "\n",
    "multicoll = ['garage_cars','garage_cond','totrms_abvgrd','2nd_flr_sf','bsmt_cond', 'exter_qual','fireplace_qu',\\\n",
    "             '1st_flr_sf']\n",
    "\n",
    "\n",
    "drops = extraneous + multicoll"
   ]
  },
  {
   "cell_type": "markdown",
   "id": "7ea80bc4-591c-4b2a-b146-9629a8b32faf",
   "metadata": {},
   "source": [
    "Dropped same features for each set of observations."
   ]
  },
  {
   "cell_type": "code",
   "execution_count": 14,
   "id": "b8a38316-11e9-445c-a6dd-10bc771f2826",
   "metadata": {
    "tags": []
   },
   "outputs": [],
   "source": [
    "Xtrain_d = X_train.drop(columns=drops)\n",
    "Xval_d = X_val.drop(columns=drops)\n",
    "dftest_d = df_test.drop(columns=drops)"
   ]
  },
  {
   "cell_type": "markdown",
   "id": "83e87a6a-687d-4018-98ca-4a4b23c609a1",
   "metadata": {},
   "source": [
    "The below are the features used for the regression modeling."
   ]
  },
  {
   "cell_type": "code",
   "execution_count": 15,
   "id": "f24de8c6-d86d-47a8-9a16-ade7d1a8f5d5",
   "metadata": {},
   "outputs": [
    {
     "data": {
      "text/plain": [
       "Index(['lot_area', 'neighborhood', 'bldg_type', 'house_style', 'overall_qual',\n",
       "       'overall_cond', 'exterior_1st', 'bsmt_qual', 'total_bsmt_sf',\n",
       "       'heating_qc', 'central_air', 'gr_liv_area', 'bsmt_full_bath',\n",
       "       'full_bath', 'half_bath', 'bedroom_abvgr', 'kitchen_qual', 'fireplaces',\n",
       "       'garage_area', 'garage_qual', 'paved_drive', 'wood_deck_sf',\n",
       "       'open_porch_sf', 'fence', 'yr_sold', 'sale_type', 'age'],\n",
       "      dtype='object')"
      ]
     },
     "execution_count": 15,
     "metadata": {},
     "output_type": "execute_result"
    }
   ],
   "source": [
    "Xtrain_d.columns"
   ]
  },
  {
   "cell_type": "code",
   "execution_count": 16,
   "id": "53ececd8-d18b-4ed1-b576-67a8ca704951",
   "metadata": {},
   "outputs": [
    {
     "data": {
      "text/plain": [
       "27"
      ]
     },
     "execution_count": 16,
     "metadata": {},
     "output_type": "execute_result"
    }
   ],
   "source": [
    "len(Xtrain_d.columns)"
   ]
  },
  {
   "cell_type": "markdown",
   "id": "551807f4-6556-47f0-a668-b06c72ae2a4f",
   "metadata": {},
   "source": [
    "### Creating Null Baseline"
   ]
  },
  {
   "cell_type": "markdown",
   "id": "75b1a7d7-c8f4-4125-a43b-ab7672618feb",
   "metadata": {},
   "source": [
    "Creating a null baseline to which we can compare the models we are building."
   ]
  },
  {
   "cell_type": "code",
   "execution_count": 17,
   "id": "8e2daf84-cc8b-445e-9660-c9b4607ed228",
   "metadata": {},
   "outputs": [
    {
     "name": "stdout",
     "output_type": "stream",
     "text": [
      "Baseline Test MSE is 4417414053\n",
      "Baseline Test RMSE is 66464\n",
      "Baseline Test MAE is 51405\n",
      "Baseline R^2 is -0.0\n"
     ]
    }
   ],
   "source": [
    "baseline_test = np.full_like(y_val,y_val.mean())\n",
    "null_mse = mean_squared_error(y_val,baseline_test)\n",
    "null_mae = mean_absolute_error(y_val,baseline_test)\n",
    "null_rsme = np.sqrt(null_mse)\n",
    "baseline_r2 = r2_score(y_val,baseline_test)\n",
    "print('Baseline Test MSE is '+str(round(null_mse)))\n",
    "print('Baseline Test RMSE is '+str(round(null_rsme)))\n",
    "print('Baseline Test MAE is '+str(round(null_mae)))\n",
    "print('Baseline R^2 is '+str(round(baseline_r2,4)))"
   ]
  },
  {
   "cell_type": "markdown",
   "id": "7c3a545a-f782-4874-8080-8997df3fb337",
   "metadata": {
    "tags": []
   },
   "source": [
    "##  LR Analysis"
   ]
  },
  {
   "cell_type": "markdown",
   "id": "ef948bc1-d5f2-40b6-98a0-179bf6b767cb",
   "metadata": {},
   "source": [
    "The preprocessing done on the data was scaling of all numeric values, and One-hot-encoding of the categorical. The OHE dropped the first generated column of each feature to be used in comparative analysis. After this preprocessing was done in the pipeline, I began the regression analyses.\n",
    "\n",
    "Below are the R-squared values I calculated for the permutations of regressions I ran, with the strongest regression last.\n",
    "\n",
    "The first set was straighforward linear regression.. which resulted in strong r-squared values, but slight overfit:\n",
    "\n",
    "* Train Set: 0.92974\n",
    "* Validation Set: 0.90198\n",
    "* K-Folds Cross Validation: 0.9131\n",
    "\n",
    "\n",
    "When polynomial transformation was added to preprocessing pipeline, the model became very overfit, and variance was greatly increased.\n",
    "\n",
    "* Train Set: 0.999\n",
    "* Validaton Set: -2.6531\n",
    "* K-Folds Cross Validation: -0.3231\n",
    "\n",
    "\n",
    "The best model utilized just the linear regression, with a log transformation of the target. The values are strong, with a slight overfit. It does not seem excessive. The mean squared error is less than a tenth of the baseline figure.\n",
    "\n",
    "* Train Set: 0.9333\n",
    "* Validaton Set: 0.9140\n",
    "* K-Folds Cross Validation: 0.9161\n",
    "\n",
    "\n",
    "* Validation MSE: 379,836,316\n",
    "* Baseline MSE: 4,417,414,053\n",
    "\n",
    "\n",
    "I had also run an RFE regression with a linear regression estimator. As I previously stated, I had already manually approximated an RFE within the context of my data problem. Additionally, the RFE regression that resulted had worse metric results than the best lienar regression that I had run."
   ]
  },
  {
   "cell_type": "markdown",
   "id": "6d6a1d71-bb83-4b09-b7c9-c7c438e8a2c9",
   "metadata": {},
   "source": [
    "### LR Pipeline"
   ]
  },
  {
   "cell_type": "code",
   "execution_count": 18,
   "id": "a397231e-43d7-41d1-84e5-acd0be13564f",
   "metadata": {},
   "outputs": [],
   "source": [
    "ctx = ColumnTransformer(\n",
    "    [('ss',StandardScaler(),[i for i in numeric if i not in drops]),\n",
    "     ('ohe',OneHotEncoder(handle_unknown='ignore',drop='first'),\\\n",
    "     [i for i in categorical if i not in drops])],\n",
    "     verbose_feature_names_out=False\n",
    ")\n",
    "\n",
    "lr_pipe = Pipeline(\n",
    "    [\n",
    "    ('ct',ctx),\n",
    "    ('tt',TransformedTargetRegressor(regressor=LinearRegression(),func=np.log,inverse_func=np.exp))\n",
    "    ]\n",
    ")\n",
    "\n",
    "lr_pipe_params = {\n",
    "    'ct__remainder' : ['passthrough'],\n",
    "    'ct__ss__with_mean' : [True, False],\n",
    "    'ct__ohe__handle_unknown' : ['ignore'],\n",
    "    'ct__ohe__sparse' : [False],\n",
    "}"
   ]
  },
  {
   "cell_type": "markdown",
   "id": "cee343fb-f111-4e70-bcf0-66f0d05f00bd",
   "metadata": {},
   "source": [
    "#### Fitting LR to Train"
   ]
  },
  {
   "cell_type": "code",
   "execution_count": 19,
   "id": "c8cb08b7-24db-4f59-a96b-c27c529e3573",
   "metadata": {},
   "outputs": [
    {
     "data": {
      "text/plain": [
       "Pipeline(steps=[('ct',\n",
       "                 ColumnTransformer(transformers=[('ss', StandardScaler(),\n",
       "                                                  ['lot_area', 'total_bsmt_sf',\n",
       "                                                   'gr_liv_area', 'fireplaces',\n",
       "                                                   'garage_area',\n",
       "                                                   'wood_deck_sf',\n",
       "                                                   'open_porch_sf', 'age']),\n",
       "                                                 ('ohe',\n",
       "                                                  OneHotEncoder(drop='first',\n",
       "                                                                handle_unknown='ignore'),\n",
       "                                                  ['neighborhood', 'bldg_type',\n",
       "                                                   'house_style',\n",
       "                                                   'overall_qual',\n",
       "                                                   'overall_cond',\n",
       "                                                   'exterior_1st', 'bsmt_qual',\n",
       "                                                   'heating_qc', 'central_air',\n",
       "                                                   'bsmt_full_bath',\n",
       "                                                   'full_bath', 'half_bath',\n",
       "                                                   'bedroom_abvgr',\n",
       "                                                   'kitchen_qual',\n",
       "                                                   'garage_qual', 'paved_drive',\n",
       "                                                   'fence', 'yr_sold',\n",
       "                                                   'sale_type'])],\n",
       "                                   verbose_feature_names_out=False)),\n",
       "                ('tt',\n",
       "                 TransformedTargetRegressor(func=<ufunc 'log'>,\n",
       "                                            inverse_func=<ufunc 'exp'>,\n",
       "                                            regressor=LinearRegression()))])"
      ]
     },
     "execution_count": 19,
     "metadata": {},
     "output_type": "execute_result"
    }
   ],
   "source": [
    "lr_pipe.fit(Xtrain_d,y_train)"
   ]
  },
  {
   "cell_type": "code",
   "execution_count": 20,
   "id": "46ccdce2-0337-4da0-a317-76c3b6475369",
   "metadata": {},
   "outputs": [
    {
     "data": {
      "text/plain": [
       "0.933335695270096"
      ]
     },
     "execution_count": 20,
     "metadata": {},
     "output_type": "execute_result"
    }
   ],
   "source": [
    "lr_pipe.score(Xtrain_d,y_train)"
   ]
  },
  {
   "cell_type": "code",
   "execution_count": 21,
   "id": "6caf01fd-0a07-4ff2-90a9-d6934cdf0faa",
   "metadata": {},
   "outputs": [
    {
     "data": {
      "text/plain": [
       "0.9140060849439802"
      ]
     },
     "execution_count": 21,
     "metadata": {},
     "output_type": "execute_result"
    }
   ],
   "source": [
    "lr_pipe.score(Xval_d,y_val)"
   ]
  },
  {
   "cell_type": "code",
   "execution_count": 22,
   "id": "0fdccb16-a12d-4a24-b07b-f66610938b9c",
   "metadata": {},
   "outputs": [
    {
     "data": {
      "text/plain": [
       "0.9160654823553074"
      ]
     },
     "execution_count": 22,
     "metadata": {},
     "output_type": "execute_result"
    }
   ],
   "source": [
    "cross_val_score(lr_pipe,Xtrain_d,y_train,scoring='r2',cv=5).mean()"
   ]
  },
  {
   "cell_type": "markdown",
   "id": "7ce90bf8-a3ce-438f-961a-5b8c8b4d20be",
   "metadata": {},
   "source": [
    "#### LR Predictions"
   ]
  },
  {
   "cell_type": "code",
   "execution_count": 23,
   "id": "ba8f7f1f-1906-4aab-b631-54b10b2cda1d",
   "metadata": {},
   "outputs": [
    {
     "data": {
      "text/plain": [
       "347961042.9696282"
      ]
     },
     "execution_count": 23,
     "metadata": {},
     "output_type": "execute_result"
    }
   ],
   "source": [
    "t_preds = lr_pipe.predict(Xtrain_d)\n",
    "mean_squared_error(y_train,t_preds)"
   ]
  },
  {
   "cell_type": "code",
   "execution_count": 24,
   "id": "078bf5d2-8bf3-4354-942a-d7da0c540f15",
   "metadata": {},
   "outputs": [
    {
     "data": {
      "text/plain": [
       "379870728.792704"
      ]
     },
     "execution_count": 24,
     "metadata": {},
     "output_type": "execute_result"
    }
   ],
   "source": [
    "v_preds = lr_pipe.predict(Xval_d)\n",
    "mean_squared_error(y_val,v_preds)"
   ]
  },
  {
   "cell_type": "code",
   "execution_count": 25,
   "id": "8b8aa70b-2250-4a5c-9fb4-70dec9ce9784",
   "metadata": {},
   "outputs": [],
   "source": [
    "t_resids = y_train - t_preds\n",
    "v_resids = y_val - v_preds"
   ]
  },
  {
   "cell_type": "markdown",
   "id": "ba287780-052f-4e29-8d79-64894cfec5da",
   "metadata": {},
   "source": [
    "### Residual Analysis\n",
    "\n",
    "When reviewing the log transformed residuals for the training set, they are fairly evenly distributed accross the set of predicted values. Residuals tend to grow a bit larger around the $300K salesprice mark. For both the training and validation sets, there is a house for which our model predicted a sale price of much higher than actual price."
   ]
  },
  {
   "cell_type": "markdown",
   "id": "a7e6b4d9-5b33-41ba-8261-12de45a60c7c",
   "metadata": {},
   "source": [
    "#### TRAINING SET"
   ]
  },
  {
   "cell_type": "code",
   "execution_count": 26,
   "id": "ef0d0b71-b4b0-4506-92c0-a095b4c63976",
   "metadata": {},
   "outputs": [
    {
     "data": {
      "image/png": "[encoded data removed]",
      "text/plain": [
       "<Figure size 432x288 with 1 Axes>"
      ]
     },
     "metadata": {
      "needs_background": "light"
     },
     "output_type": "display_data"
    }
   ],
   "source": [
    "sns.residplot(x = t_preds,\n",
    "              y = t_resids,\n",
    "              lowess = True,\n",
    "              line_kws = {'color':'orange'})\\\n",
    "    .set(title = 'Training Residuals vs. Fits Plot, LINEAR REGRESSION',\n",
    "        xlabel = 'Predicted value - Train Set',\n",
    "        ylabel = 'Residual value');"
   ]
  },
  {
   "cell_type": "markdown",
   "id": "2f3d2f7b-651b-454e-9978-b19c40a9bc6b",
   "metadata": {},
   "source": [
    "For the validation set, see that our predictions are fairly evenly distributed around 0 until the graph hits the $200K sale price mark. The model has an evident overfit element, when reviewed against the graph for the training set."
   ]
  },
  {
   "cell_type": "markdown",
   "id": "e2e877ff-4ea8-4a18-a4f1-046b54117885",
   "metadata": {},
   "source": [
    "#### VAL SET"
   ]
  },
  {
   "cell_type": "code",
   "execution_count": 27,
   "id": "391be852-4d29-4845-b295-8fee5d4b5bd0",
   "metadata": {},
   "outputs": [
    {
     "data": {
      "image/png": "[encoded data removed]",
      "text/plain": [
       "<Figure size 432x288 with 1 Axes>"
      ]
     },
     "metadata": {
      "needs_background": "light"
     },
     "output_type": "display_data"
    }
   ],
   "source": [
    "sns.residplot(x = v_preds,\n",
    "              y = v_resids,\n",
    "              lowess = True,\n",
    "              line_kws = {'color':'orange'})\\\n",
    "    .set(title = 'Validation Residuals vs. Fits Plot, LINEAR REGRESSION',\n",
    "        xlabel = 'Predicted value - Validation Set',\n",
    "        ylabel = 'Residual value');"
   ]
  },
  {
   "cell_type": "markdown",
   "id": "4f46157b-e18e-42f0-859b-6133a7a8b21d",
   "metadata": {},
   "source": [
    "#### LR Scoring"
   ]
  },
  {
   "cell_type": "markdown",
   "id": "07a999b1-1ab0-4320-ab2c-0b3aab46fe98",
   "metadata": {},
   "source": [
    "Our model using Linear Regression and log transformed target explained 93.33% of variance of sale prices in the training set. This value fell to 91.4% for the validation set. The model is somewhat overfit, but not excessively so.\n",
    "\n",
    "The K-fold cross validation score reaffirms this, caclulating am average r-squared of .9161 across five iterations."
   ]
  },
  {
   "cell_type": "markdown",
   "id": "af09fda1-0054-4720-8048-906c9fe06961",
   "metadata": {},
   "source": [
    "####  LR Coefficients"
   ]
  },
  {
   "cell_type": "markdown",
   "id": "4fd6ec43-c212-40d0-aff3-6e0decf456a4",
   "metadata": {},
   "source": [
    "Calculated the coefficients using a formula provided by the University of Virginia for converting target log transformed coefficients into percentages. This is the basis for which we will arrive at interpretable coefficients for all of our model that have log transformed targets moving forward.\n",
    "\n",
    "https://data.library.virginia.edu/interpreting-log-transformations-in-a-linear-model/"
   ]
  },
  {
   "cell_type": "code",
   "execution_count": 28,
   "id": "b410f3b8-13ca-48a1-a1b1-7e3198ada7a0",
   "metadata": {},
   "outputs": [],
   "source": [
    "lrcoefs = lr_pipe.named_steps['tt'].regressor_.coef_.tolist()\n",
    "lrcl = [(np.exp(i) - 1)*100 for i in lrcoefs]\n",
    "\n",
    "lrn = lr_pipe.named_steps['ct'].get_feature_names_out().tolist()\n",
    "lrnl = [i for i in lrn]\n",
    "\n",
    "lrcoef_zip = zip(lrnl,lrcl)\n",
    "lrcoef_dict = {a:b for a,b in lrcoef_zip}\n",
    "\n",
    "#lrcoef_dict"
   ]
  },
  {
   "cell_type": "markdown",
   "id": "6dae59b7-65c6-4147-ab95-ebef8ed01218",
   "metadata": {},
   "source": [
    "## Ridge Analysis"
   ]
  },
  {
   "cell_type": "markdown",
   "id": "7294d72d-93b9-4a12-b880-9b13f05fa137",
   "metadata": {},
   "source": [
    "Below are the results from the RidgeCV regression analysis that was run, first with the default alphas, and then the final alpha number used, .2. Again, this data was scaled and one-hot-encoded.\n",
    "\n",
    "Ridge with Default alphas:\n",
    "\n",
    "* Train: 0.9291\n",
    "* Validation: 0.9024\n",
    "* K-Folds: 0.9136\n",
    "\n",
    "\n",
    "Ridge with Default alphas and polynomial transformation. Again, model becomes much more overfit and has high variance.\n",
    "\n",
    "* Train: 0.9875\n",
    "* Validation: 0.8893\n",
    "* K-Folds: 0.8899\n",
    "\n",
    "\n",
    "Ridge with Default alphas and log transform target performs the best of the ridge regression run.\n",
    "\n",
    "* Train: 0.9334\n",
    "* Validation: 0.9147\n",
    "* K-Folds: 0.9187\n",
    "\n",
    "This is the best of the models run so far, with a lower MSE than the linear regression model. This is ultimately the model we proceed with for the final analysis presented.\n",
    "\n",
    "* Ridge Validation MSE: 376,816,821\n",
    "* LR Validation MSE: 379,870,534\n",
    "\n",
    "    "
   ]
  },
  {
   "cell_type": "markdown",
   "id": "0462c342-ab3d-437f-b7be-826ef77d7ebd",
   "metadata": {},
   "source": [
    "#### Ridge Pipeline"
   ]
  },
  {
   "cell_type": "code",
   "execution_count": 29,
   "id": "3f78c902-8b32-476b-bc44-a6f3440f2a84",
   "metadata": {},
   "outputs": [],
   "source": [
    "ridge_pipe = Pipeline(\n",
    "    [\n",
    "    ('ct',ctx),\n",
    "    ('ttr',TransformedTargetRegressor(regressor=RidgeCV(alphas=.20),func=np.log,inverse_func=np.exp))\n",
    "    #('ridge',RidgeCV())\n",
    "    ]\n",
    ")\n",
    "\n",
    "ridge_pipe_params = {\n",
    "    'ct__remainder' : ['passthrough'],\n",
    "    'ct__ss__with_mean' : [True, False],\n",
    "    'ct__ohe__drop' : ['first'],\n",
    "    'ct__ohe__handle_unknown' : ['ignore'],\n",
    "    'ct__ohe__sparse' : [False],\n",
    "}\n"
   ]
  },
  {
   "cell_type": "markdown",
   "id": "725312ad-9c75-488f-b0a6-723e229c5fbd",
   "metadata": {},
   "source": [
    "#### Fitting Ridge to Train"
   ]
  },
  {
   "cell_type": "code",
   "execution_count": 30,
   "id": "22305e26-e0ed-4958-8a60-9f8cfea3886c",
   "metadata": {},
   "outputs": [
    {
     "data": {
      "text/plain": [
       "Pipeline(steps=[('ct',\n",
       "                 ColumnTransformer(transformers=[('ss', StandardScaler(),\n",
       "                                                  ['lot_area', 'total_bsmt_sf',\n",
       "                                                   'gr_liv_area', 'fireplaces',\n",
       "                                                   'garage_area',\n",
       "                                                   'wood_deck_sf',\n",
       "                                                   'open_porch_sf', 'age']),\n",
       "                                                 ('ohe',\n",
       "                                                  OneHotEncoder(drop='first',\n",
       "                                                                handle_unknown='ignore'),\n",
       "                                                  ['neighborhood', 'bldg_type',\n",
       "                                                   'house_style',\n",
       "                                                   'overall_qual',\n",
       "                                                   'overall_cond',\n",
       "                                                   'exterior_1st', 'bsmt_qual',\n",
       "                                                   'heating_qc', 'central_air',\n",
       "                                                   'bsmt_full_bath',\n",
       "                                                   'full_bath', 'half_bath',\n",
       "                                                   'bedroom_abvgr',\n",
       "                                                   'kitchen_qual',\n",
       "                                                   'garage_qual', 'paved_drive',\n",
       "                                                   'fence', 'yr_sold',\n",
       "                                                   'sale_type'])],\n",
       "                                   verbose_feature_names_out=False)),\n",
       "                ('ttr',\n",
       "                 TransformedTargetRegressor(func=<ufunc 'log'>,\n",
       "                                            inverse_func=<ufunc 'exp'>,\n",
       "                                            regressor=RidgeCV(alphas=array(0.2))))])"
      ]
     },
     "execution_count": 30,
     "metadata": {},
     "output_type": "execute_result"
    }
   ],
   "source": [
    "ridge_pipe.fit(Xtrain_d,y_train)"
   ]
  },
  {
   "cell_type": "code",
   "execution_count": 31,
   "id": "0bc94ff7-942f-4bb1-8ffc-19886a20a9a4",
   "metadata": {},
   "outputs": [
    {
     "data": {
      "text/plain": [
       "0.2"
      ]
     },
     "execution_count": 31,
     "metadata": {},
     "output_type": "execute_result"
    }
   ],
   "source": [
    "ridge_pipe.named_steps['ttr'].regressor_.alpha_"
   ]
  },
  {
   "cell_type": "markdown",
   "id": "61578186-7926-4b8e-9373-00d2bbdc1d9f",
   "metadata": {},
   "source": [
    "#### Ridge Predictions"
   ]
  },
  {
   "cell_type": "markdown",
   "id": "23a15a3c-c4a5-4bcd-8925-2be8a8df4652",
   "metadata": {},
   "source": [
    "Again, with a few exceptions, the errors are fairly well distributed around the mean."
   ]
  },
  {
   "cell_type": "code",
   "execution_count": 32,
   "id": "0c853b2b-774a-425f-9f22-237f61217626",
   "metadata": {},
   "outputs": [
    {
     "data": {
      "text/plain": [
       "347268448.8074822"
      ]
     },
     "execution_count": 32,
     "metadata": {},
     "output_type": "execute_result"
    }
   ],
   "source": [
    "rt_preds = ridge_pipe.predict(Xtrain_d)\n",
    "mean_squared_error(y_train,rt_preds)"
   ]
  },
  {
   "cell_type": "code",
   "execution_count": 33,
   "id": "d8a902fb-0e7f-4fa2-9dfa-40130c1f47b2",
   "metadata": {},
   "outputs": [
    {
     "data": {
      "text/plain": [
       "376816821.16723657"
      ]
     },
     "execution_count": 33,
     "metadata": {},
     "output_type": "execute_result"
    }
   ],
   "source": [
    "rv_preds = ridge_pipe.predict(Xval_d)\n",
    "mean_squared_error(y_val,rv_preds)"
   ]
  },
  {
   "cell_type": "code",
   "execution_count": 34,
   "id": "ef13db5d-701c-4c3b-85b8-65a38592c600",
   "metadata": {},
   "outputs": [],
   "source": [
    "ridt_resids = y_train - rt_preds\n",
    "ridv_resids = y_val - rv_preds"
   ]
  },
  {
   "cell_type": "markdown",
   "id": "686687b1-1f7e-4be9-acf7-9c31b65415ba",
   "metadata": {},
   "source": [
    "#### TRAIN SET"
   ]
  },
  {
   "cell_type": "markdown",
   "id": "e2962f68-9a3c-40da-a323-93ca34814df2",
   "metadata": {},
   "source": [
    "The model does look similarly overfit, with residuals starting to grow when we approach the 300K in the training set and  200K in the validation. The apparent overfit in the model remains."
   ]
  },
  {
   "cell_type": "code",
   "execution_count": 35,
   "id": "8b0ecbf8-1894-4169-81cb-d6097bf98d30",
   "metadata": {},
   "outputs": [
    {
     "data": {
      "image/png": "[encoded data removed]",
      "text/plain": [
       "<Figure size 432x288 with 1 Axes>"
      ]
     },
     "metadata": {
      "needs_background": "light"
     },
     "output_type": "display_data"
    }
   ],
   "source": [
    "sns.residplot(x = rt_preds,\n",
    "              y = ridt_resids,\n",
    "              lowess = True,\n",
    "              line_kws = {'color':'orange'})\\\n",
    "    .set(title = 'Training Residuals vs. Fits Plot, RIDGE',\n",
    "        xlabel = 'Predicted value - Train Set',\n",
    "        ylabel = 'Residual value');"
   ]
  },
  {
   "cell_type": "markdown",
   "id": "6b369e12-6a27-4b12-b4be-762034b86a05",
   "metadata": {},
   "source": [
    "##### VAL SET"
   ]
  },
  {
   "cell_type": "code",
   "execution_count": 36,
   "id": "09232599-0459-46c5-961e-67a95a9d92a0",
   "metadata": {},
   "outputs": [
    {
     "data": {
      "image/png": "[encoded data removed]",
      "text/plain": [
       "<Figure size 432x288 with 1 Axes>"
      ]
     },
     "metadata": {
      "needs_background": "light"
     },
     "output_type": "display_data"
    }
   ],
   "source": [
    "sns.residplot(x = rv_preds,\n",
    "              y = ridv_resids,\n",
    "              lowess = True,\n",
    "              line_kws = {'color':'orange'})\\\n",
    "    .set(title = 'Validation Residuals vs. Fits Plot, RIDGE',\n",
    "        xlabel = 'Predicted value - Validation Set',\n",
    "        ylabel = 'Residual value');"
   ]
  },
  {
   "cell_type": "markdown",
   "id": "862485b4-bfc8-4a64-9e55-2c1f142e57f6",
   "metadata": {},
   "source": [
    "#### Ridge Scoring"
   ]
  },
  {
   "cell_type": "markdown",
   "id": "a7568986-27e5-4709-9f0c-06dd1acc69e8",
   "metadata": {},
   "source": [
    "The Ridge regression providing the best regression used the alpha OF .2. and the log transformation of target. Using this model, we were able to explain 93.34% of the variation in the sale prices of the train set, 91.47% of the variation in the validation set, and this affirmed by a .9186 cross validation score, using 5 folds. This is the regression model that we will proceed with."
   ]
  },
  {
   "cell_type": "code",
   "execution_count": 37,
   "id": "81981ede-c651-432e-90a8-1bc931411fc3",
   "metadata": {},
   "outputs": [
    {
     "data": {
      "text/plain": [
       "0.2"
      ]
     },
     "execution_count": 37,
     "metadata": {},
     "output_type": "execute_result"
    }
   ],
   "source": [
    "ridge_pipe.named_steps['ttr'].regressor_.alpha_"
   ]
  },
  {
   "cell_type": "code",
   "execution_count": 38,
   "id": "47a8492d-471c-4a99-a07c-2bf68941d1f7",
   "metadata": {},
   "outputs": [
    {
     "data": {
      "text/plain": [
       "0.9334683862974749"
      ]
     },
     "execution_count": 38,
     "metadata": {},
     "output_type": "execute_result"
    }
   ],
   "source": [
    "ridge_pipe.score(Xtrain_d,y_train)"
   ]
  },
  {
   "cell_type": "code",
   "execution_count": 39,
   "id": "0c384dee-0b8e-4998-a060-c85dd9361f39",
   "metadata": {},
   "outputs": [
    {
     "data": {
      "text/plain": [
       "0.9146974187400008"
      ]
     },
     "execution_count": 39,
     "metadata": {},
     "output_type": "execute_result"
    }
   ],
   "source": [
    "ridge_pipe.score(Xval_d,y_val)"
   ]
  },
  {
   "cell_type": "code",
   "execution_count": 40,
   "id": "259c3242-d5d6-4559-9820-4ded517bfbb9",
   "metadata": {},
   "outputs": [
    {
     "data": {
      "text/plain": [
       "0.9186957994981346"
      ]
     },
     "execution_count": 40,
     "metadata": {},
     "output_type": "execute_result"
    }
   ],
   "source": [
    "cross_val_score(ridge_pipe,Xtrain_d,y_train,scoring='r2').mean()"
   ]
  },
  {
   "cell_type": "markdown",
   "id": "ff62a222-2d4e-4a57-b714-47a46be959c4",
   "metadata": {},
   "source": [
    "#### Ridge Coefficients"
   ]
  },
  {
   "cell_type": "markdown",
   "id": "a309d10d-561b-4bb1-aad0-9fdc2ae19089",
   "metadata": {},
   "source": [
    "The below ridge coefficients will be presented as final findings for this project."
   ]
  },
  {
   "cell_type": "code",
   "execution_count": 41,
   "id": "81e9211d-6bd4-48fd-abd4-cf54868310d5",
   "metadata": {},
   "outputs": [
    {
     "data": {
      "text/plain": [
       "{'lot_area': 2.473853100479273,\n",
       " 'total_bsmt_sf': 5.1939184236259095,\n",
       " 'gr_liv_area': 12.341439632034179,\n",
       " 'fireplaces': 1.2976103592820865,\n",
       " 'garage_area': 1.6795957604840428,\n",
       " 'wood_deck_sf': 1.028709551034357,\n",
       " 'open_porch_sf': 0.6733211532110817,\n",
       " 'age': -6.072447143629589,\n",
       " 'neighborhood_Blueste': -1.4084011651593231,\n",
       " 'neighborhood_BrDale': -7.98332698535984,\n",
       " 'neighborhood_BrkSide': -4.932552398375112,\n",
       " 'neighborhood_ClearCr': 0.3183537608993703,\n",
       " 'neighborhood_CollgCr': -3.535941451843805,\n",
       " 'neighborhood_Crawfor': 6.662196189105862,\n",
       " 'neighborhood_Edwards': -8.707589022921224,\n",
       " 'neighborhood_Gilbert': -4.828418028661718,\n",
       " 'neighborhood_Greens': 2.4326858377296423,\n",
       " 'neighborhood_GrnHill': 47.89051273597593,\n",
       " 'neighborhood_IDOTRR': -12.891896150612524,\n",
       " 'neighborhood_MeadowV': -18.697153303019544,\n",
       " 'neighborhood_Mitchel': -3.3074832244532004,\n",
       " 'neighborhood_NAmes': -3.3205114635674104,\n",
       " 'neighborhood_NPkVill': -1.738313500747446,\n",
       " 'neighborhood_NWAmes': -6.2905696445367365,\n",
       " 'neighborhood_NoRidge': 0.31978377639505506,\n",
       " 'neighborhood_NridgHt': 4.282272373056384,\n",
       " 'neighborhood_OldTown': -9.96587298549504,\n",
       " 'neighborhood_SWISU': -6.685397868041887,\n",
       " 'neighborhood_Sawyer': -6.0991246316560055,\n",
       " 'neighborhood_SawyerW': -4.932258484891783,\n",
       " 'neighborhood_Somerst': 1.1591542472302319,\n",
       " 'neighborhood_StoneBr': 6.043348240676871,\n",
       " 'neighborhood_Timber': -0.4226842624551086,\n",
       " 'neighborhood_Veenker': -0.06309667856901902,\n",
       " 'bldg_type_2fmCon': -5.112390431593717,\n",
       " 'bldg_type_Duplex': -11.50985964188358,\n",
       " 'bldg_type_Twnhs': -10.765309244230693,\n",
       " 'bldg_type_TwnhsE': -5.512376880956649,\n",
       " 'house_style_1.5Unf': 3.1264905417178745,\n",
       " 'house_style_1Story': -1.1809710134131124,\n",
       " 'house_style_2.5Fin': -12.889161652141013,\n",
       " 'house_style_2.5Unf': 7.094487504796865,\n",
       " 'house_style_2Story': -2.035014590055617,\n",
       " 'house_style_SFoyer': 4.1392829474334425,\n",
       " 'house_style_SLvl': 0.5254633276642773,\n",
       " 'overall_qual_2': -5.727299363098037,\n",
       " 'overall_qual_3': 31.44292636141335,\n",
       " 'overall_qual_4': 46.249259674374855,\n",
       " 'overall_qual_5': 53.594735364240286,\n",
       " 'overall_qual_6': 58.90376887110973,\n",
       " 'overall_qual_7': 66.22367611595357,\n",
       " 'overall_qual_8': 77.58877232623762,\n",
       " 'overall_qual_9': 93.52449715926596,\n",
       " 'overall_qual_10': 92.70281880009617,\n",
       " 'overall_cond_2': -6.799411205341688,\n",
       " 'overall_cond_3': 3.2842572160549866,\n",
       " 'overall_cond_4': 12.975152204433948,\n",
       " 'overall_cond_5': 19.62492761724959,\n",
       " 'overall_cond_6': 23.39090271855564,\n",
       " 'overall_cond_7': 30.899465079879796,\n",
       " 'overall_cond_8': 33.651269509805324,\n",
       " 'overall_cond_9': 34.649791362195195,\n",
       " 'exterior_1st_AsphShn': 29.28568816018242,\n",
       " 'exterior_1st_BrkComm': -13.11982574980638,\n",
       " 'exterior_1st_BrkFace': 16.12922447604628,\n",
       " 'exterior_1st_CBlock': 11.422038736391782,\n",
       " 'exterior_1st_CemntBd': 10.002399512452476,\n",
       " 'exterior_1st_HdBoard': 7.487052509456427,\n",
       " 'exterior_1st_ImStucc': 10.664065038263182,\n",
       " 'exterior_1st_MetalSd': 9.553047790380731,\n",
       " 'exterior_1st_Plywood': 7.588796381841267,\n",
       " 'exterior_1st_Stone': 6.883884798595763,\n",
       " 'exterior_1st_Stucco': 12.024516151501686,\n",
       " 'exterior_1st_VinylSd': 8.072355851500967,\n",
       " 'exterior_1st_Wd Sdng': 8.468585805920469,\n",
       " 'exterior_1st_WdShing': 6.85299362924312,\n",
       " 'bsmt_qual_1.0': -1.4617025807983852,\n",
       " 'bsmt_qual_2.0': -5.03199689821675,\n",
       " 'bsmt_qual_3.0': -2.7052804612831216,\n",
       " 'bsmt_qual_4.0': -0.9047902347313119,\n",
       " 'bsmt_qual_5.0': 3.910195686967599,\n",
       " 'heating_qc_2': 44.49476438360944,\n",
       " 'heating_qc_3': 41.252982382825905,\n",
       " 'heating_qc_4': 45.57918471591511,\n",
       " 'heating_qc_5': 46.316343725908496,\n",
       " 'central_air_Y': 5.952050521807428,\n",
       " 'bsmt_full_bath_1.0': 6.418104487859222,\n",
       " 'bsmt_full_bath_2.0': 13.619966730322442,\n",
       " 'bsmt_full_bath_3.0': 50.70270356199942,\n",
       " 'full_bath_1': 0.21833866682670067,\n",
       " 'full_bath_2': 5.6009708405297065,\n",
       " 'full_bath_3': 3.310175422731687,\n",
       " 'full_bath_4': 3.7319586098071733,\n",
       " 'half_bath_1': 2.1860687776376286,\n",
       " 'half_bath_2': -1.171956982072242,\n",
       " 'bedroom_abvgr_1': 2.39699970330709,\n",
       " 'bedroom_abvgr_2': -3.4872869872836776,\n",
       " 'bedroom_abvgr_3': -2.8428500409157897,\n",
       " 'bedroom_abvgr_4': -2.3087399663514474,\n",
       " 'bedroom_abvgr_5': -6.752174958404145,\n",
       " 'bedroom_abvgr_6': -3.9074828602655653,\n",
       " 'bedroom_abvgr_8': 4.739208267619532,\n",
       " 'kitchen_qual_3': 3.6691818701881873,\n",
       " 'kitchen_qual_4': 6.329941761461377,\n",
       " 'kitchen_qual_5': 11.88263341621072,\n",
       " 'garage_qual_1.0': -18.475273989290585,\n",
       " 'garage_qual_2.0': -1.512369907693778,\n",
       " 'garage_qual_3.0': 1.8220567088357509,\n",
       " 'garage_qual_4.0': 8.087445616064715,\n",
       " 'garage_qual_5.0': 9.774774675898644,\n",
       " 'paved_drive_1': 0.9086512818589965,\n",
       " 'paved_drive_2': 5.5800190461001264,\n",
       " 'fence_1': -2.3243961525363566,\n",
       " 'fence_2': -2.841109992582491,\n",
       " 'fence_3': -0.6002605153259344,\n",
       " 'fence_4': -1.0058578904990845,\n",
       " 'yr_sold_2007': -0.17474028837136668,\n",
       " 'yr_sold_2008': -0.7021678595755088,\n",
       " 'yr_sold_2009': -0.836447935631246,\n",
       " 'yr_sold_2010': -1.8744491348513415,\n",
       " 'sale_type_CWD': 2.981506168072068,\n",
       " 'sale_type_Con': 11.58521288270662,\n",
       " 'sale_type_ConLD': 10.01046445108793,\n",
       " 'sale_type_ConLI': -7.490606867335137,\n",
       " 'sale_type_ConLw': 8.998897870858746,\n",
       " 'sale_type_New': 8.56462364721866,\n",
       " 'sale_type_Oth': 10.189980647594998,\n",
       " 'sale_type_WD ': 4.759634705276272}"
      ]
     },
     "execution_count": 41,
     "metadata": {},
     "output_type": "execute_result"
    }
   ],
   "source": [
    "ridgecoefs = ridge_pipe.named_steps['ttr'].regressor_.coef_.tolist()\n",
    "ridgecl = [(np.exp(i) - 1)*100 for i in ridgecoefs]\n",
    "\n",
    "ridgenames = ridge_pipe.named_steps['ct'].get_feature_names_out().tolist()\n",
    "ridgenl = [i for i in ridgenames]\n",
    "\n",
    "ridgecoef_zip = zip(ridgenl,ridgecl)\n",
    "ridgecoef_dict = {a:b for a,b in ridgecoef_zip}\n",
    "ridgecoef_dict"
   ]
  },
  {
   "cell_type": "markdown",
   "id": "87bfcbdb-1b11-423e-81be-60e280a3ec9b",
   "metadata": {},
   "source": [
    "### Ridge Gridsearch"
   ]
  },
  {
   "cell_type": "markdown",
   "id": "28e3ed42-fd76-4712-80ca-17fdbedfbf0c",
   "metadata": {},
   "source": [
    "The gridsearch of the Ridge regression (without CV) yielded a score of .9144 on the validation set, which is very close to the .9147 which was calculated with an alpha .2. The best score is .9177, which is veyr close to the .9187 cross val calculated above in the RidgeCV regression."
   ]
  },
  {
   "cell_type": "code",
   "execution_count": 42,
   "id": "fd8e91fd-d3e8-411b-a8ba-ffd902a07a09",
   "metadata": {},
   "outputs": [],
   "source": [
    "ridge_pipe2 = Pipeline(\n",
    "    [\n",
    "    ('ct',ctx),\n",
    "    ('ttr',TransformedTargetRegressor(regressor=Ridge(),func=np.log,inverse_func=np.exp))\n",
    "    ]\n",
    ")\n",
    "\n",
    "\n",
    "gsridge = GridSearchCV(\n",
    "    ridge_pipe2,\n",
    "    ridge_pipe_params,\n",
    "    error_score = 'raise'\n",
    ")\n"
   ]
  },
  {
   "cell_type": "code",
   "execution_count": 43,
   "id": "196da83c-c25e-440e-a8f4-385a35afc924",
   "metadata": {},
   "outputs": [
    {
     "data": {
      "text/plain": [
       "GridSearchCV(error_score='raise',\n",
       "             estimator=Pipeline(steps=[('ct',\n",
       "                                        ColumnTransformer(transformers=[('ss',\n",
       "                                                                         StandardScaler(),\n",
       "                                                                         ['lot_area',\n",
       "                                                                          'total_bsmt_sf',\n",
       "                                                                          'gr_liv_area',\n",
       "                                                                          'fireplaces',\n",
       "                                                                          'garage_area',\n",
       "                                                                          'wood_deck_sf',\n",
       "                                                                          'open_porch_sf',\n",
       "                                                                          'age']),\n",
       "                                                                        ('ohe',\n",
       "                                                                         OneHotEncoder(drop='first',\n",
       "                                                                                       handle_unknown='ignore'),\n",
       "                                                                         ['neighborhood',\n",
       "                                                                          'bldg_type',\n",
       "                                                                          'house_style',\n",
       "                                                                          'overall_qual',\n",
       "                                                                          'overa...\n",
       "                                                                          'garage_qual',\n",
       "                                                                          'paved_drive',\n",
       "                                                                          'fence',\n",
       "                                                                          'yr_sold',\n",
       "                                                                          'sale_type'])],\n",
       "                                                          verbose_feature_names_out=False)),\n",
       "                                       ('ttr',\n",
       "                                        TransformedTargetRegressor(func=<ufunc 'log'>,\n",
       "                                                                   inverse_func=<ufunc 'exp'>,\n",
       "                                                                   regressor=Ridge()))]),\n",
       "             param_grid={'ct__ohe__drop': ['first'],\n",
       "                         'ct__ohe__handle_unknown': ['ignore'],\n",
       "                         'ct__ohe__sparse': [False],\n",
       "                         'ct__remainder': ['passthrough'],\n",
       "                         'ct__ss__with_mean': [True, False]})"
      ]
     },
     "execution_count": 43,
     "metadata": {},
     "output_type": "execute_result"
    }
   ],
   "source": [
    "gsridge.fit(Xtrain_d,y_train)"
   ]
  },
  {
   "cell_type": "code",
   "execution_count": 44,
   "id": "08d52858-bb14-4207-8898-934a1c8e7124",
   "metadata": {},
   "outputs": [
    {
     "data": {
      "text/plain": [
       "0.9321174559663098"
      ]
     },
     "execution_count": 44,
     "metadata": {},
     "output_type": "execute_result"
    }
   ],
   "source": [
    "gsridge.score(Xtrain_d,y_train)"
   ]
  },
  {
   "cell_type": "code",
   "execution_count": 45,
   "id": "268ba393-5bbe-4169-a112-43fddb5af66b",
   "metadata": {},
   "outputs": [
    {
     "data": {
      "text/plain": [
       "0.9144120245234574"
      ]
     },
     "execution_count": 45,
     "metadata": {},
     "output_type": "execute_result"
    }
   ],
   "source": [
    "gsridge.score(Xval_d,y_val)"
   ]
  },
  {
   "cell_type": "code",
   "execution_count": 46,
   "id": "c60948bc-0c80-455b-8156-a8ab217464eb",
   "metadata": {},
   "outputs": [
    {
     "data": {
      "text/plain": [
       "0.917741349140581"
      ]
     },
     "execution_count": 46,
     "metadata": {},
     "output_type": "execute_result"
    }
   ],
   "source": [
    "gsridge.best_score_"
   ]
  },
  {
   "cell_type": "markdown",
   "id": "c44cc729-f379-4b54-87a2-8dd00669627f",
   "metadata": {
    "tags": []
   },
   "source": [
    "### LASSO Analysis"
   ]
  },
  {
   "cell_type": "markdown",
   "id": "1472be22-7c4a-4821-a7fb-47cef34c79fc",
   "metadata": {},
   "source": [
    "We continue on with our Lasso CV analysis below, again scaling and encoding the data.\n",
    "\n",
    "Using default alphas for Lasso we generated similarly strong r-squared values, with more variation than we had seen prior, with lower validation score than train. K-folds is a bit higher than validation.\n",
    "\n",
    "* Train: 0.9253\n",
    "* Val: 0.8986\n",
    "* K Folds: 0.9111\n",
    "\n",
    "\n",
    "Using Lasso with log transform and a chosen range of alpha (.00001,0.1,.01), we were able to improve the training, validation, and K-folds scores, and reducte the variance.\n",
    "\n",
    "* Train: 0.9335\n",
    "* Validaton: 0.9142\n",
    "* K-Folds: 0.9181\n",
    "\n",
    "\n",
    "However, the previous Ridge regression slightly outperformed on Mean Sqaured Error:\n",
    "* Ridge MSE: 378,077,525\n",
    "* Lasso MSE: 378,903,832"
   ]
  },
  {
   "cell_type": "markdown",
   "id": "c799ac62-9697-4ff6-8259-690910455dd3",
   "metadata": {},
   "source": [
    "#### Lasso Pipeline"
   ]
  },
  {
   "cell_type": "code",
   "execution_count": 47,
   "id": "7d6c6037-4689-4456-b8e9-d035f239f951",
   "metadata": {},
   "outputs": [],
   "source": [
    "lasso_pipe = Pipeline(\n",
    "    [\n",
    "    ('ct',ctx),\n",
    "    ('ttl',TransformedTargetRegressor(regressor=LassoCV(alphas=np.arange(.00001,0.1,.001)),func=np.log,inverse_func=np.exp))\n",
    "    ]\n",
    ")\n",
    "\n",
    "lasso_pipe_params = {\n",
    "    'ct__ss__with_mean' : [True, False],\n",
    "    'ct__ohe__drop' : ['first'],\n",
    "    'ct__ohe__handle_unknown' : ['ignore'],\n",
    "    'ct__ohe__sparse' : [False],\n",
    "    'ttl__regressor__alphas' : [np.arange(.00001,0.1,.01)]\n",
    "}\n",
    "\n"
   ]
  },
  {
   "cell_type": "code",
   "execution_count": 48,
   "id": "9734d855-f7c1-45b1-9755-4c3c6e6ab1a3",
   "metadata": {},
   "outputs": [
    {
     "data": {
      "text/plain": [
       "Pipeline(steps=[('ct',\n",
       "                 ColumnTransformer(transformers=[('ss', StandardScaler(),\n",
       "                                                  ['lot_area', 'total_bsmt_sf',\n",
       "                                                   'gr_liv_area', 'fireplaces',\n",
       "                                                   'garage_area',\n",
       "                                                   'wood_deck_sf',\n",
       "                                                   'open_porch_sf', 'age']),\n",
       "                                                 ('ohe',\n",
       "                                                  OneHotEncoder(drop='first',\n",
       "                                                                handle_unknown='ignore'),\n",
       "                                                  ['neighborhood', 'bldg_type',\n",
       "                                                   'house_style',\n",
       "                                                   'overall_qual',\n",
       "                                                   'overall_cond',\n",
       "                                                   'exterior_1st', 'bsmt_qual',\n",
       "                                                   'heatin...\n",
       "       6.001e-02, 6.101e-02, 6.201e-02, 6.301e-02, 6.401e-02, 6.501e-02,\n",
       "       6.601e-02, 6.701e-02, 6.801e-02, 6.901e-02, 7.001e-02, 7.101e-02,\n",
       "       7.201e-02, 7.301e-02, 7.401e-02, 7.501e-02, 7.601e-02, 7.701e-02,\n",
       "       7.801e-02, 7.901e-02, 8.001e-02, 8.101e-02, 8.201e-02, 8.301e-02,\n",
       "       8.401e-02, 8.501e-02, 8.601e-02, 8.701e-02, 8.801e-02, 8.901e-02,\n",
       "       9.001e-02, 9.101e-02, 9.201e-02, 9.301e-02, 9.401e-02, 9.501e-02,\n",
       "       9.601e-02, 9.701e-02, 9.801e-02, 9.901e-02]))))])"
      ]
     },
     "execution_count": 48,
     "metadata": {},
     "output_type": "execute_result"
    }
   ],
   "source": [
    "lasso_pipe.fit(Xtrain_d,y_train)"
   ]
  },
  {
   "cell_type": "markdown",
   "id": "749218ea-1522-41cf-a0a8-3218551d8086",
   "metadata": {},
   "source": [
    "#### Lasso Predictions"
   ]
  },
  {
   "cell_type": "code",
   "execution_count": 49,
   "id": "5363b5d7-d5c8-4e80-9362-bb0e1acfdb04",
   "metadata": {},
   "outputs": [
    {
     "data": {
      "text/plain": [
       "347007846.4225074"
      ]
     },
     "execution_count": 49,
     "metadata": {},
     "output_type": "execute_result"
    }
   ],
   "source": [
    "lassot_preds = lasso_pipe.predict(Xtrain_d)\n",
    "lassot_preds = lassot_preds.reshape(1516,1)\n",
    "mean_squared_error(y_train,lassot_preds)"
   ]
  },
  {
   "cell_type": "code",
   "execution_count": 50,
   "id": "30a6fab3-0354-44ef-9f93-6eaba378512a",
   "metadata": {},
   "outputs": [
    {
     "data": {
      "text/plain": [
       "378903832.05539674"
      ]
     },
     "execution_count": 50,
     "metadata": {},
     "output_type": "execute_result"
    }
   ],
   "source": [
    "lassov_preds = lasso_pipe.predict(Xval_d)\n",
    "lassov_preds = lassov_preds.reshape(506,1)\n",
    "mean_squared_error(y_val,lassov_preds)"
   ]
  },
  {
   "cell_type": "code",
   "execution_count": 51,
   "id": "2e45a3af-7553-4c25-9083-4f16e41bd8e9",
   "metadata": {},
   "outputs": [],
   "source": [
    "lassot_resids = y_train - lassot_preds\n",
    "lassov_resids = y_val - lassov_preds"
   ]
  },
  {
   "cell_type": "markdown",
   "id": "03722f43-fb2e-4f25-b5d1-e9f798715cab",
   "metadata": {},
   "source": [
    "The residuals follow a fairly similar distribution as those of the previous regression."
   ]
  },
  {
   "cell_type": "markdown",
   "id": "b0b81c07-aca0-4bf4-a220-bda9398934cd",
   "metadata": {},
   "source": [
    "#### Training Set"
   ]
  },
  {
   "cell_type": "code",
   "execution_count": 52,
   "id": "a6b153d7-d6ec-4bb8-b51e-1f3aacec2f94",
   "metadata": {},
   "outputs": [
    {
     "data": {
      "image/png": "[encoded data removed]",
      "text/plain": [
       "<Figure size 432x288 with 1 Axes>"
      ]
     },
     "metadata": {
      "needs_background": "light"
     },
     "output_type": "display_data"
    }
   ],
   "source": [
    "sns.residplot(x = lassot_preds,\n",
    "              y = lassot_resids,\n",
    "              lowess = True,\n",
    "              line_kws = {'color':'orange'})\\\n",
    "    .set(title = 'Training Residuals vs. Fits Plot, LASSO',\n",
    "        xlabel = 'Predicted value - Train Set',\n",
    "        ylabel = 'Residual value');"
   ]
  },
  {
   "cell_type": "markdown",
   "id": "04a060aa-2d9c-4374-85b5-5e2716299226",
   "metadata": {},
   "source": [
    "#### VAL SET"
   ]
  },
  {
   "cell_type": "code",
   "execution_count": 53,
   "id": "97163e35-08c3-4d2e-b5f2-f796d9be1ca4",
   "metadata": {},
   "outputs": [
    {
     "data": {
      "image/png": "[encoded data removed]",
      "text/plain": [
       "<Figure size 432x288 with 1 Axes>"
      ]
     },
     "metadata": {
      "needs_background": "light"
     },
     "output_type": "display_data"
    }
   ],
   "source": [
    "sns.residplot(x = lassov_preds,\n",
    "              y = lassov_resids,\n",
    "              lowess = True,\n",
    "              line_kws = {'color':'orange'})\\\n",
    "    .set(title = 'Validation Residuals vs. Fits Plot, LASSO',\n",
    "        xlabel = 'Predicted value - Validation Set',\n",
    "        ylabel = 'Residual value');"
   ]
  },
  {
   "cell_type": "markdown",
   "id": "8dd53cd9-0204-46d7-aef7-e333e328d5ad",
   "metadata": {},
   "source": [
    "#### Lasso Scoring"
   ]
  },
  {
   "cell_type": "markdown",
   "id": "6800daa3-aa34-4dfe-80ec-a787d6e1c387",
   "metadata": {},
   "source": [
    "Through the target log transformed lasso model, we are able to explain .9292 of the variation "
   ]
  },
  {
   "cell_type": "code",
   "execution_count": 54,
   "id": "be1932b6-67ed-4b30-b4b3-40173da7fa40",
   "metadata": {},
   "outputs": [
    {
     "data": {
      "text/plain": [
       "0.9335183139464354"
      ]
     },
     "execution_count": 54,
     "metadata": {},
     "output_type": "execute_result"
    }
   ],
   "source": [
    "lasso_pipe.score(Xtrain_d,y_train)"
   ]
  },
  {
   "cell_type": "code",
   "execution_count": 55,
   "id": "e763b8e4-dbaf-4bfb-9ccb-bb233a32a136",
   "metadata": {},
   "outputs": [
    {
     "data": {
      "text/plain": [
       "0.9142249679207238"
      ]
     },
     "execution_count": 55,
     "metadata": {},
     "output_type": "execute_result"
    }
   ],
   "source": [
    "lasso_pipe.score(Xval_d,y_val)"
   ]
  },
  {
   "cell_type": "code",
   "execution_count": 56,
   "id": "35a0438d-d0ef-4da2-a07b-b6bc20d9125c",
   "metadata": {},
   "outputs": [
    {
     "data": {
      "text/plain": [
       "0.9147468222466616"
      ]
     },
     "execution_count": 56,
     "metadata": {},
     "output_type": "execute_result"
    }
   ],
   "source": [
    "cross_val_score(lasso_pipe,Xtrain_d,y_train,scoring='r2').mean()"
   ]
  },
  {
   "cell_type": "markdown",
   "id": "86f58767-ef3f-4a67-8a53-8d3182e999c5",
   "metadata": {},
   "source": [
    "#### Lasso Coefficients"
   ]
  },
  {
   "cell_type": "code",
   "execution_count": 57,
   "id": "56b66d84-8bce-42f9-ab5b-e91509a6350b",
   "metadata": {},
   "outputs": [],
   "source": [
    "lassocoefs = lasso_pipe.named_steps['ttl'].regressor_.coef_.tolist()\n",
    "lassocl = [(np.exp(i) - 1)*100 for i in lassocoefs]\n",
    "\n",
    "lassonames = lasso_pipe.named_steps['ct'].get_feature_names_out().tolist()\n",
    "lassonl = [i for i in lassonames]\n",
    "\n",
    "lassocoef_zip = zip(lassonl,lassocl)\n",
    "lassocoef_dict = {a:b for a,b in lassocoef_zip}\n",
    "#lassocoef_dict\n"
   ]
  },
  {
   "cell_type": "markdown",
   "id": "0fd0366e-14f1-41f4-b52f-dd376d8d383f",
   "metadata": {},
   "source": [
    "### GridSearch"
   ]
  },
  {
   "cell_type": "code",
   "execution_count": 58,
   "id": "9d8e47fd-d8c1-414d-879a-e1f43b21e1e4",
   "metadata": {},
   "outputs": [],
   "source": [
    "lasso_pipe2 = Pipeline(\n",
    "    [\n",
    "    ('ct',ctx),\n",
    "    ('ttl',TransformedTargetRegressor(regressor=Lasso(alpha=.0001),func=np.log,inverse_func=np.exp))\n",
    "    ]\n",
    ")\n",
    "\n",
    "lasso_pipe_params2 = {\n",
    "    'ct__ss__with_mean' : [True, False],\n",
    "    'ct__ohe__drop' : ['first'],\n",
    "    'ct__ohe__handle_unknown' : ['ignore'],\n",
    "    'ct__ohe__sparse' : [False],\n",
    "}\n",
    "\n",
    "gslasso = GridSearchCV(\n",
    "    lasso_pipe2,\n",
    "    lasso_pipe_params2,\n",
    "    cv =5,\n",
    "    error_score = 'raise'\n",
    ")\n"
   ]
  },
  {
   "cell_type": "code",
   "execution_count": 59,
   "id": "8abed8c3-e222-4cf3-8191-5db0a441a0a9",
   "metadata": {},
   "outputs": [
    {
     "data": {
      "text/plain": [
       "GridSearchCV(cv=5, error_score='raise',\n",
       "             estimator=Pipeline(steps=[('ct',\n",
       "                                        ColumnTransformer(transformers=[('ss',\n",
       "                                                                         StandardScaler(),\n",
       "                                                                         ['lot_area',\n",
       "                                                                          'total_bsmt_sf',\n",
       "                                                                          'gr_liv_area',\n",
       "                                                                          'fireplaces',\n",
       "                                                                          'garage_area',\n",
       "                                                                          'wood_deck_sf',\n",
       "                                                                          'open_porch_sf',\n",
       "                                                                          'age']),\n",
       "                                                                        ('ohe',\n",
       "                                                                         OneHotEncoder(drop='first',\n",
       "                                                                                       handle_unknown='ignore'),\n",
       "                                                                         ['neighborhood',\n",
       "                                                                          'bldg_type',\n",
       "                                                                          'house_style',\n",
       "                                                                          'overall_qual',\n",
       "                                                                          '...\n",
       "                                                                          'kitchen_qual',\n",
       "                                                                          'garage_qual',\n",
       "                                                                          'paved_drive',\n",
       "                                                                          'fence',\n",
       "                                                                          'yr_sold',\n",
       "                                                                          'sale_type'])],\n",
       "                                                          verbose_feature_names_out=False)),\n",
       "                                       ('ttl',\n",
       "                                        TransformedTargetRegressor(func=<ufunc 'log'>,\n",
       "                                                                   inverse_func=<ufunc 'exp'>,\n",
       "                                                                   regressor=Lasso(alpha=0.0001)))]),\n",
       "             param_grid={'ct__ohe__drop': ['first'],\n",
       "                         'ct__ohe__handle_unknown': ['ignore'],\n",
       "                         'ct__ohe__sparse': [False],\n",
       "                         'ct__ss__with_mean': [True, False]})"
      ]
     },
     "execution_count": 59,
     "metadata": {},
     "output_type": "execute_result"
    }
   ],
   "source": [
    "gslasso.fit(Xtrain_d,y_train)"
   ]
  },
  {
   "cell_type": "code",
   "execution_count": 60,
   "id": "f4f2fd99-566c-4e38-a005-3717df43f8bd",
   "metadata": {},
   "outputs": [
    {
     "data": {
      "text/plain": [
       "0.933125712362749"
      ]
     },
     "execution_count": 60,
     "metadata": {},
     "output_type": "execute_result"
    }
   ],
   "source": [
    "gslasso.score(Xtrain_d,y_train)"
   ]
  },
  {
   "cell_type": "code",
   "execution_count": 61,
   "id": "380ac40c-ef13-42df-879f-1d457c2e27a1",
   "metadata": {},
   "outputs": [
    {
     "data": {
      "text/plain": [
       "0.913739478466191"
      ]
     },
     "execution_count": 61,
     "metadata": {},
     "output_type": "execute_result"
    }
   ],
   "source": [
    "gslasso.score(Xval_d,y_val)"
   ]
  },
  {
   "cell_type": "code",
   "execution_count": 62,
   "id": "3978fb83-1068-4160-bc17-87918ccfe632",
   "metadata": {},
   "outputs": [
    {
     "data": {
      "text/plain": [
       "0.9194251064697575"
      ]
     },
     "execution_count": 62,
     "metadata": {},
     "output_type": "execute_result"
    }
   ],
   "source": [
    "gslasso.best_score_"
   ]
  },
  {
   "cell_type": "markdown",
   "id": "7f48f32d-d256-4a20-9e61-3d8f47b007e0",
   "metadata": {},
   "source": [
    "### Elastic Net Analysis"
   ]
  },
  {
   "cell_type": "markdown",
   "id": "02c49700-6f1f-49ec-948e-c180a55f2702",
   "metadata": {},
   "source": [
    "The elastic net analysis did not produce as strong a model as our previous iterations, even when utilizing the polynomial transformation."
   ]
  },
  {
   "cell_type": "markdown",
   "id": "ae4ce086-6cf6-4fe4-82ae-d9e6e136a5f1",
   "metadata": {},
   "source": [
    "#### Elastic Net Piepline"
   ]
  },
  {
   "cell_type": "code",
   "execution_count": 63,
   "id": "1cbcd660-32ab-476a-91cc-b1978e9c4f9c",
   "metadata": {},
   "outputs": [],
   "source": [
    "enet_pipe = Pipeline(\n",
    "    [\n",
    "    ('ct',ctx),\n",
    "    ('poly',PolynomialFeatures()),\n",
    "    ('enet',ElasticNet())\n",
    "    ]\n",
    ")\n",
    "\n",
    "enet_pipe_params = {\n",
    "    'ct__ss__with_mean' : [True, False],\n",
    "    'ct__ohe__drop' : ['first'],\n",
    "    'ct__ohe__handle_unknown' : ['ignore'],\n",
    "    'ct__ohe__spares' : [False],\n",
    "    'poly__degree' : [1,2],\n",
    "    'poly__include_bias' : [False],\n",
    "    'poly_interaction_only' : [True,False],\n",
    "    'enet__alpha' : [np.logspace(0,5,100)],\n",
    "    'enet__l1_ratio' : [.05]\n",
    "}\n"
   ]
  },
  {
   "cell_type": "code",
   "execution_count": 64,
   "id": "b5bb9379-a6a4-4234-882d-7926f27e8292",
   "metadata": {},
   "outputs": [
    {
     "data": {
      "text/plain": [
       "Pipeline(steps=[('ct',\n",
       "                 ColumnTransformer(transformers=[('ss', StandardScaler(),\n",
       "                                                  ['lot_area', 'total_bsmt_sf',\n",
       "                                                   'gr_liv_area', 'fireplaces',\n",
       "                                                   'garage_area',\n",
       "                                                   'wood_deck_sf',\n",
       "                                                   'open_porch_sf', 'age']),\n",
       "                                                 ('ohe',\n",
       "                                                  OneHotEncoder(drop='first',\n",
       "                                                                handle_unknown='ignore'),\n",
       "                                                  ['neighborhood', 'bldg_type',\n",
       "                                                   'house_style',\n",
       "                                                   'overall_qual',\n",
       "                                                   'overall_cond',\n",
       "                                                   'exterior_1st', 'bsmt_qual',\n",
       "                                                   'heating_qc', 'central_air',\n",
       "                                                   'bsmt_full_bath',\n",
       "                                                   'full_bath', 'half_bath',\n",
       "                                                   'bedroom_abvgr',\n",
       "                                                   'kitchen_qual',\n",
       "                                                   'garage_qual', 'paved_drive',\n",
       "                                                   'fence', 'yr_sold',\n",
       "                                                   'sale_type'])],\n",
       "                                   verbose_feature_names_out=False)),\n",
       "                ('poly', PolynomialFeatures()), ('enet', ElasticNet())])"
      ]
     },
     "execution_count": 64,
     "metadata": {},
     "output_type": "execute_result"
    }
   ],
   "source": [
    "enet_pipe.fit(Xtrain_d,y_train)"
   ]
  },
  {
   "cell_type": "markdown",
   "id": "f6275900-8045-4d97-b457-1d98131f6ea7",
   "metadata": {},
   "source": [
    "#### Elastic Net Predictions"
   ]
  },
  {
   "cell_type": "code",
   "execution_count": 65,
   "id": "40762eea-53b7-4b49-93c1-4272edec3e3d",
   "metadata": {},
   "outputs": [
    {
     "data": {
      "text/plain": [
       "347007846.4225074"
      ]
     },
     "execution_count": 65,
     "metadata": {},
     "output_type": "execute_result"
    }
   ],
   "source": [
    "ent_preds = lasso_pipe.predict(Xtrain_d)\n",
    "mean_squared_error(y_train,ent_preds)"
   ]
  },
  {
   "cell_type": "code",
   "execution_count": 66,
   "id": "5bf302ba-141f-4971-984c-5fdc9d3331a1",
   "metadata": {},
   "outputs": [
    {
     "data": {
      "text/plain": [
       "428943765.9360249"
      ]
     },
     "execution_count": 66,
     "metadata": {},
     "output_type": "execute_result"
    }
   ],
   "source": [
    "env_preds = enet_pipe.predict(Xval_d)\n",
    "mean_squared_error(y_val,env_preds)"
   ]
  },
  {
   "cell_type": "markdown",
   "id": "eea858a5-1811-4958-aa3f-ea807c3d0606",
   "metadata": {},
   "source": [
    "### Elastic Net Scoring"
   ]
  },
  {
   "cell_type": "code",
   "execution_count": 67,
   "id": "9c4ce3fd-ae04-4956-b0e8-7ecd10f9eb69",
   "metadata": {},
   "outputs": [
    {
     "data": {
      "text/plain": [
       "0.9306417090326673"
      ]
     },
     "execution_count": 67,
     "metadata": {},
     "output_type": "execute_result"
    }
   ],
   "source": [
    "enet_pipe.score(Xtrain_d,y_train)"
   ]
  },
  {
   "cell_type": "code",
   "execution_count": 68,
   "id": "309cfd49-73dd-441b-900c-6daf8b54ca8b",
   "metadata": {},
   "outputs": [
    {
     "data": {
      "text/plain": [
       "0.9028970884675854"
      ]
     },
     "execution_count": 68,
     "metadata": {},
     "output_type": "execute_result"
    }
   ],
   "source": [
    "enet_pipe.score(Xval_d,y_val)"
   ]
  },
  {
   "cell_type": "code",
   "execution_count": 69,
   "id": "24dfe7e0-d277-43b8-9c37-2e69a88a535d",
   "metadata": {},
   "outputs": [
    {
     "data": {
      "text/plain": [
       "0.9029690468821865"
      ]
     },
     "execution_count": 69,
     "metadata": {},
     "output_type": "execute_result"
    }
   ],
   "source": [
    "cross_val_score(enet_pipe,Xtrain_d,y_train,scoring='r2').mean()"
   ]
  },
  {
   "cell_type": "markdown",
   "id": "7bfbc6b1-e16e-45e7-8503-6acc88227912",
   "metadata": {},
   "source": [
    "#### Elastic Net Coefficients"
   ]
  },
  {
   "cell_type": "code",
   "execution_count": 70,
   "id": "847cca14-cbbd-4f0c-9be1-b9a3a8c76197",
   "metadata": {},
   "outputs": [],
   "source": [
    "enetcoefs = enet_pipe.named_steps['enet'].coef_.tolist()\n",
    "encl = [i for i in enetcoefs]\n",
    "\n",
    "enetnames = enet_pipe.named_steps['ct'].get_feature_names_out().tolist()\n",
    "ennl = [i for i in enetnames]\n",
    "\n",
    "enetcoef_zip = zip(ennl,encl)\n",
    "enetcoef_dict = {a:b for a,b in enetcoef_zip}\n",
    "#enetcoef_dictb"
   ]
  },
  {
   "cell_type": "markdown",
   "id": "b06c029c-2799-40c4-8222-7f782c95dd52",
   "metadata": {},
   "source": [
    "Ultimately it is the Ridge regression that will be chosen as the best predictor thas has been created."
   ]
  },
  {
   "cell_type": "markdown",
   "id": "d86a96fd-e474-4698-8946-011136e014e8",
   "metadata": {},
   "source": [
    "### Production Ready"
   ]
  },
  {
   "cell_type": "code",
   "execution_count": 71,
   "id": "ff2c53b3-d22f-4b45-b316-26f76d0c78ec",
   "metadata": {},
   "outputs": [],
   "source": [
    "final_preds = ridge_pipe.predict(dftest_d)"
   ]
  },
  {
   "cell_type": "code",
   "execution_count": 72,
   "id": "49e47f32-b9f6-49f8-9765-02df94a8794b",
   "metadata": {},
   "outputs": [],
   "source": [
    "final_preds = pd.DataFrame(final_preds,columns=['SalePrice'])"
   ]
  },
  {
   "cell_type": "code",
   "execution_count": 73,
   "id": "7d1f194a-3e9a-461c-be78-4a9298f4a67d",
   "metadata": {},
   "outputs": [
    {
     "data": {
      "text/plain": [
       "(878, 1)"
      ]
     },
     "execution_count": 73,
     "metadata": {},
     "output_type": "execute_result"
    }
   ],
   "source": [
    "final_preds.shape"
   ]
  },
  {
   "cell_type": "code",
   "execution_count": 74,
   "id": "53b584de-d7de-4f77-8581-7bf3fe60c5a1",
   "metadata": {},
   "outputs": [],
   "source": [
    "final_preds.insert(loc=0,column='Id',value=test_id)"
   ]
  },
  {
   "cell_type": "code",
   "execution_count": 75,
   "id": "b18e5c3a-5f22-46c4-ab72-ab95d99a4c35",
   "metadata": {},
   "outputs": [
    {
     "data": {
      "text/html": [
       "<div>\n",
       "<style scoped>\n",
       "    .dataframe tbody tr th:only-of-type {\n",
       "        vertical-align: middle;\n",
       "    }\n",
       "\n",
       "    .dataframe tbody tr th {\n",
       "        vertical-align: top;\n",
       "    }\n",
       "\n",
       "    .dataframe thead th {\n",
       "        text-align: right;\n",
       "    }\n",
       "</style>\n",
       "<table border=\"1\" class=\"dataframe\">\n",
       "  <thead>\n",
       "    <tr style=\"text-align: right;\">\n",
       "      <th></th>\n",
       "      <th>Id</th>\n",
       "      <th>SalePrice</th>\n",
       "    </tr>\n",
       "  </thead>\n",
       "  <tbody>\n",
       "    <tr>\n",
       "      <th>0</th>\n",
       "      <td>2658</td>\n",
       "      <td>100499.280395</td>\n",
       "    </tr>\n",
       "    <tr>\n",
       "      <th>1</th>\n",
       "      <td>2718</td>\n",
       "      <td>157286.943886</td>\n",
       "    </tr>\n",
       "    <tr>\n",
       "      <th>2</th>\n",
       "      <td>2414</td>\n",
       "      <td>208534.345341</td>\n",
       "    </tr>\n",
       "    <tr>\n",
       "      <th>3</th>\n",
       "      <td>1989</td>\n",
       "      <td>96568.006423</td>\n",
       "    </tr>\n",
       "    <tr>\n",
       "      <th>4</th>\n",
       "      <td>625</td>\n",
       "      <td>172018.678843</td>\n",
       "    </tr>\n",
       "  </tbody>\n",
       "</table>\n",
       "</div>"
      ],
      "text/plain": [
       "     Id      SalePrice\n",
       "0  2658  100499.280395\n",
       "1  2718  157286.943886\n",
       "2  2414  208534.345341\n",
       "3  1989   96568.006423\n",
       "4   625  172018.678843"
      ]
     },
     "execution_count": 75,
     "metadata": {},
     "output_type": "execute_result"
    }
   ],
   "source": [
    "final_preds.head()"
   ]
  },
  {
   "cell_type": "code",
   "execution_count": 76,
   "id": "4318ba43-a5c2-40b7-9894-e02190f6f5c0",
   "metadata": {},
   "outputs": [
    {
     "data": {
      "text/plain": [
       "(878, 2)"
      ]
     },
     "execution_count": 76,
     "metadata": {},
     "output_type": "execute_result"
    }
   ],
   "source": [
    "final_preds.shape"
   ]
  },
  {
   "cell_type": "code",
   "execution_count": 77,
   "id": "665703a4-5ed0-4317-8b10-51eead285aaf",
   "metadata": {},
   "outputs": [],
   "source": [
    "final_preds.to_csv('../datasets/final_sub/submissiondscsv', index=False)"
   ]
  },
  {
   "cell_type": "markdown",
   "id": "ab52ed9a-b5cb-469b-a365-58c2bceb84c4",
   "metadata": {},
   "source": [
    "### Graphs"
   ]
  },
  {
   "cell_type": "code",
   "execution_count": 81,
   "id": "8cf6aca4-0b48-4066-972d-fb483a99ed3e",
   "metadata": {},
   "outputs": [
    {
     "data": {
      "image/png": "[encoded data removed]",
      "text/plain": [
       "<Figure size 1080x576 with 1 Axes>"
      ]
     },
     "metadata": {},
     "output_type": "display_data"
    }
   ],
   "source": [
    "gq_coeffs = []\n",
    "for k,v in ridgecoef_dict.items():\n",
    "    if 'garage_qual' in k:\n",
    "        gq_coeffs.append(v)\n",
    "gq_coeffs.insert(0,0)\n",
    "g_quals = ['None','Poor','Fair','Average','Good','Excellent']\n",
    "sns.set(font_scale = 1.5)\n",
    "plt.figure(figsize=(15,8))\n",
    "sns.lineplot(x=g_quals,y=gq_coeffs,marker='o',color='orange').axhline(0,linestyle='--')\n",
    "plt.ylabel('Percent Change in Sale Price (vs. No Garage)',fontsize=20,labelpad=20)\n",
    "plt.xlabel('Quality of Garage',fontsize=20,labelpad=20)\n",
    "plt.title('How Garage Quality Impacts Sale Price',fontsize=20)\n",
    "plt.savefig('../images/garage.png');"
   ]
  },
  {
   "cell_type": "code",
   "execution_count": 79,
   "id": "27bedd8a-b8ba-4adc-be12-078bb5f89a8e",
   "metadata": {},
   "outputs": [
    {
     "data": {
      "image/png": "[encoded data removed]",
      "text/plain": [
       "<Figure size 1080x576 with 1 Axes>"
      ]
     },
     "metadata": {},
     "output_type": "display_data"
    }
   ],
   "source": [
    "oc_coeffs = []\n",
    "for k,v in ridgecoef_dict.items():\n",
    "    if 'overall_cond' in k:\n",
    "        oc_coeffs.append(v)\n",
    "oc_coeffs[0] = 0\n",
    "oc_coeffs\n",
    "oc_conds = ['Poor','Fair','Below Avg','Avg','Above Avg','Good','V. Good','Excellent']\n",
    "sns.set(font_scale = 1.5)\n",
    "plt.figure(figsize=(15,8))\n",
    "sns.lineplot(x=oc_conds,y=oc_coeffs,marker='o',color='salmon').axhline(0,linestyle='--')\n",
    "plt.ylabel('Percent Change in Sale Price (vs. Poor Cond.)',fontsize=20,labelpad=20)\n",
    "plt.xlabel('Overall Condition of Home',fontsize=20,labelpad=20)\n",
    "plt.title('Fig. 1 - How Condition of Home Impacts Sale Price',fontsize=20)\n",
    "plt.savefig('../images/overallcond.png');"
   ]
  },
  {
   "cell_type": "code",
   "execution_count": 82,
   "id": "e27cde26-d1ee-48b3-9d48-74af8613039c",
   "metadata": {},
   "outputs": [
    {
     "data": {
      "image/png": "[encoded data removed]",
      "text/plain": [
       "<Figure size 1080x576 with 1 Axes>"
      ]
     },
     "metadata": {},
     "output_type": "display_data"
    },
    {
     "data": {
      "text/plain": [
       "<Figure size 432x288 with 0 Axes>"
      ]
     },
     "metadata": {},
     "output_type": "display_data"
    }
   ],
   "source": [
    "plt.figure(figsize=(15,8))\n",
    "exter_improv = [29, 16, 12, 11, 10]\n",
    "material = ['Asphalt Shingles', 'Brick Face', 'Stucco', 'Cinder Block', 'Imitation Stucco']\n",
    "y_pos = np.arange(len(exter_improv))\n",
    "plt.bar(y_pos, exter_improv)\n",
    "plt.xticks(y_pos, material,fontsize=20)\n",
    "plt.ylabel('Percent Change in Sale Price (vs. Asbestos Shingles)',fontsize=20,labelpad=20)\n",
    "plt.title('The Best Exterior Materials for Your Home',fontsize=20)\n",
    "plt.show()\n",
    "plt.savefig('../images/extmaterials.png');"
   ]
  },
  {
   "cell_type": "code",
   "execution_count": null,
   "id": "54e4c2cb-f835-46a2-84cb-cec183352215",
   "metadata": {},
   "outputs": [],
   "source": []
  }
 ],
 "metadata": {
  "kernelspec": {
   "display_name": "Python 3 (ipykernel)",
   "language": "python",
   "name": "python3"
  },
  "language_info": {
   "codemirror_mode": {
    "name": "ipython",
    "version": 3
   },
   "file_extension": ".py",
   "mimetype": "text/x-python",
   "name": "python",
   "nbconvert_exporter": "python",
   "pygments_lexer": "ipython3",
   "version": "3.9.7"
  }
 },
 "nbformat": 4,
 "nbformat_minor": 5
}
